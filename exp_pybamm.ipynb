{
  "cells": [
    {
      "cell_type": "code",
      "execution_count": 3,
      "metadata": {
        "colab": {
          "base_uri": "https://localhost:8080/"
        },
        "id": "BrGTLRp-8ZPW",
        "outputId": "c5adb674-bf19-4613-903a-8b57cd0820b4"
      },
      "outputs": [
        {
          "name": "stdout",
          "output_type": "stream",
          "text": [
            "Looking in indexes: https://pypi.org/simple, https://us-python.pkg.dev/colab-wheels/public/simple/\n",
            "Collecting pybamm\n",
            "  Downloading pybamm-23.4.1-cp310-cp310-manylinux_2_17_x86_64.manylinux2014_x86_64.whl (15.7 MB)\n",
            "\u001b[2K     \u001b[90m━━━━━━━━━━━━━━━━━━━━━━━━━━━━━━━━━━━━━━━━\u001b[0m \u001b[32m15.7/15.7 MB\u001b[0m \u001b[31m84.2 MB/s\u001b[0m eta \u001b[36m0:00:00\u001b[0m\n",
            "\u001b[?25hRequirement already satisfied: numpy>=1.16 in /usr/local/lib/python3.10/dist-packages (from pybamm) (1.22.4)\n",
            "Requirement already satisfied: scipy>=1.3 in /usr/local/lib/python3.10/dist-packages (from pybamm) (1.10.1)\n",
            "Requirement already satisfied: pandas>=0.24 in /usr/local/lib/python3.10/dist-packages (from pybamm) (1.5.3)\n",
            "Collecting anytree>=2.4.3 (from pybamm)\n",
            "  Downloading anytree-2.8.0-py2.py3-none-any.whl (41 kB)\n",
            "\u001b[2K     \u001b[90m━━━━━━━━━━━━━━━━━━━━━━━━━━━━━━━━━━━━━━━━\u001b[0m \u001b[32m41.7/41.7 kB\u001b[0m \u001b[31m6.1 MB/s\u001b[0m eta \u001b[36m0:00:00\u001b[0m\n",
            "\u001b[?25hRequirement already satisfied: autograd>=1.2 in /usr/local/lib/python3.10/dist-packages (from pybamm) (1.5)\n",
            "Collecting scikit-fem>=0.2.0 (from pybamm)\n",
            "  Downloading scikit_fem-8.0.0-py3-none-any.whl (157 kB)\n",
            "\u001b[2K     \u001b[90m━━━━━━━━━━━━━━━━━━━━━━━━━━━━━━━━━━━━━━\u001b[0m \u001b[32m157.8/157.8 kB\u001b[0m \u001b[31m22.1 MB/s\u001b[0m eta \u001b[36m0:00:00\u001b[0m\n",
            "\u001b[?25hCollecting casadi>=3.6.0 (from pybamm)\n",
            "  Downloading casadi-3.6.2-cp310-none-manylinux2014_x86_64.whl (67.5 MB)\n",
            "\u001b[2K     \u001b[90m━━━━━━━━━━━━━━━━━━━━━━━━━━━━━━━━━━━━━━━━\u001b[0m \u001b[32m67.5/67.5 MB\u001b[0m \u001b[31m12.9 MB/s\u001b[0m eta \u001b[36m0:00:00\u001b[0m\n",
            "\u001b[?25hRequirement already satisfied: imageio>=2.9.0 in /usr/local/lib/python3.10/dist-packages (from pybamm) (2.25.1)\n",
            "Collecting importlib-metadata (from pybamm)\n",
            "  Downloading importlib_metadata-6.6.0-py3-none-any.whl (22 kB)\n",
            "Collecting pybtex>=0.24.0 (from pybamm)\n",
            "  Downloading pybtex-0.24.0-py2.py3-none-any.whl (561 kB)\n",
            "\u001b[2K     \u001b[90m━━━━━━━━━━━━━━━━━━━━━━━━━━━━━━━━━━━━━━\u001b[0m \u001b[32m561.4/561.4 kB\u001b[0m \u001b[31m51.9 MB/s\u001b[0m eta \u001b[36m0:00:00\u001b[0m\n",
            "\u001b[?25hRequirement already satisfied: sympy>=1.8 in /usr/local/lib/python3.10/dist-packages (from pybamm) (1.11.1)\n",
            "Requirement already satisfied: xarray in /usr/local/lib/python3.10/dist-packages (from pybamm) (2022.12.0)\n",
            "Collecting bpx (from pybamm)\n",
            "  Downloading bpx-0.2.0-py2.py3-none-any.whl (8.5 kB)\n",
            "Requirement already satisfied: tqdm in /usr/local/lib/python3.10/dist-packages (from pybamm) (4.65.0)\n",
            "Requirement already satisfied: matplotlib>=2.0 in /usr/local/lib/python3.10/dist-packages (from pybamm) (3.7.1)\n",
            "Requirement already satisfied: six>=1.9.0 in /usr/local/lib/python3.10/dist-packages (from anytree>=2.4.3->pybamm) (1.16.0)\n",
            "Requirement already satisfied: future>=0.15.2 in /usr/local/lib/python3.10/dist-packages (from autograd>=1.2->pybamm) (0.18.3)\n",
            "Requirement already satisfied: pillow>=8.3.2 in /usr/local/lib/python3.10/dist-packages (from imageio>=2.9.0->pybamm) (8.4.0)\n",
            "Requirement already satisfied: contourpy>=1.0.1 in /usr/local/lib/python3.10/dist-packages (from matplotlib>=2.0->pybamm) (1.0.7)\n",
            "Requirement already satisfied: cycler>=0.10 in /usr/local/lib/python3.10/dist-packages (from matplotlib>=2.0->pybamm) (0.11.0)\n",
            "Requirement already satisfied: fonttools>=4.22.0 in /usr/local/lib/python3.10/dist-packages (from matplotlib>=2.0->pybamm) (4.39.3)\n",
            "Requirement already satisfied: kiwisolver>=1.0.1 in /usr/local/lib/python3.10/dist-packages (from matplotlib>=2.0->pybamm) (1.4.4)\n",
            "Requirement already satisfied: packaging>=20.0 in /usr/local/lib/python3.10/dist-packages (from matplotlib>=2.0->pybamm) (23.1)\n",
            "Requirement already satisfied: pyparsing>=2.3.1 in /usr/local/lib/python3.10/dist-packages (from matplotlib>=2.0->pybamm) (3.0.9)\n",
            "Requirement already satisfied: python-dateutil>=2.7 in /usr/local/lib/python3.10/dist-packages (from matplotlib>=2.0->pybamm) (2.8.2)\n",
            "Requirement already satisfied: pytz>=2020.1 in /usr/local/lib/python3.10/dist-packages (from pandas>=0.24->pybamm) (2022.7.1)\n",
            "Requirement already satisfied: PyYAML>=3.01 in /usr/local/lib/python3.10/dist-packages (from pybtex>=0.24.0->pybamm) (6.0)\n",
            "Collecting latexcodec>=1.0.4 (from pybtex>=0.24.0->pybamm)\n",
            "  Downloading latexcodec-2.0.1-py2.py3-none-any.whl (18 kB)\n",
            "Requirement already satisfied: mpmath>=0.19 in /usr/local/lib/python3.10/dist-packages (from sympy>=1.8->pybamm) (1.3.0)\n",
            "Requirement already satisfied: pydantic in /usr/local/lib/python3.10/dist-packages (from bpx->pybamm) (1.10.7)\n",
            "Requirement already satisfied: zipp>=0.5 in /usr/local/lib/python3.10/dist-packages (from importlib-metadata->pybamm) (3.15.0)\n",
            "Requirement already satisfied: typing-extensions>=4.2.0 in /usr/local/lib/python3.10/dist-packages (from pydantic->bpx->pybamm) (4.5.0)\n",
            "Installing collected packages: latexcodec, importlib-metadata, casadi, anytree, scikit-fem, pybtex, bpx, pybamm\n",
            "Successfully installed anytree-2.8.0 bpx-0.2.0 casadi-3.6.2 importlib-metadata-6.6.0 latexcodec-2.0.1 pybamm-23.4.1 pybtex-0.24.0 scikit-fem-8.0.0\n"
          ]
        }
      ],
      "source": [
        "import pybamm\n",
        "import numpy as np\n",
        "import matplotlib.pyplot as plt\n",
        "\n",
        "pybamm.set_logging_level(\"NOTICE\")"
      ]
    },
    {
      "cell_type": "code",
      "execution_count": 4,
      "metadata": {
        "id": "THgBJ5-g-tYM"
      },
      "outputs": [],
      "source": [
        "experiment = pybamm.Experiment([\n",
        "    (\"Discharge at 1C until 2.5V\",\n",
        "     \"Rest for 1 hour\",\n",
        "     \"Charge at 1C until 4.2V\",\n",
        "     \"Hold at 4.2V until C/50\")\n",
        "    ])"
      ]
    },
    {
      "cell_type": "code",
      "execution_count": 5,
      "metadata": {
        "colab": {
          "base_uri": "https://localhost:8080/",
          "height": 613,
          "referenced_widgets": [
            "a7d6f88cebc84dce9c8c8d11d8216b83",
            "e9a10dc5827b46db975ceed39cc89bf9",
            "68c6429f64014c4c8ec398524ee57cbf",
            "bbef7d3bab384528a57b21eaf757c74d",
            "4614792c2e114e4d948985ed3c5383e8",
            "ee74f87cff1643dba4bba28c7b45c105",
            "8d99471ce86c4cc188ded609d0f5cd60"
          ]
        },
        "id": "4cU_MR7NAKme",
        "outputId": "531bda80-c80e-40bd-8ccf-d940ee57ca95"
      },
      "outputs": [
        {
          "name": "stderr",
          "output_type": "stream",
          "text": [
            "2023-05-18 03:52:42.778 - [NOTICE] callbacks.on_cycle_start(172): Cycle 1/1 (2.215 ms elapsed) --------------------\n",
            "NOTICE:pybamm.logger:Cycle 1/1 (2.215 ms elapsed) --------------------\n",
            "2023-05-18 03:52:42.786 - [NOTICE] callbacks.on_step_start(180): Cycle 1/1, step 1/4: Discharge at 1C until 2.5V\n",
            "NOTICE:pybamm.logger:Cycle 1/1, step 1/4: Discharge at 1C until 2.5V\n",
            "2023-05-18 03:52:42.962 - [NOTICE] callbacks.on_step_start(180): Cycle 1/1, step 2/4: Rest for 1 hour\n",
            "NOTICE:pybamm.logger:Cycle 1/1, step 2/4: Rest for 1 hour\n",
            "2023-05-18 03:52:43.155 - [NOTICE] callbacks.on_step_start(180): Cycle 1/1, step 3/4: Charge at 1C until 4.2V\n",
            "NOTICE:pybamm.logger:Cycle 1/1, step 3/4: Charge at 1C until 4.2V\n",
            "2023-05-18 03:52:43.275 - [NOTICE] callbacks.on_step_start(180): Cycle 1/1, step 4/4: Hold at 4.2V until C/50\n",
            "NOTICE:pybamm.logger:Cycle 1/1, step 4/4: Hold at 4.2V until C/50\n",
            "2023-05-18 03:52:44.896 - [NOTICE] callbacks.on_experiment_end(220): Finish experiment simulation, took 2.120 s\n",
            "NOTICE:pybamm.logger:Finish experiment simulation, took 2.120 s\n"
          ]
        },
        {
          "data": {
            "application/vnd.jupyter.widget-view+json": {
              "model_id": "a7d6f88cebc84dce9c8c8d11d8216b83",
              "version_major": 2,
              "version_minor": 0
            },
            "text/plain": [
              "interactive(children=(FloatSlider(value=0.0, description='t', max=3.898825172106606, step=0.038988251721066056…"
            ]
          },
          "metadata": {},
          "output_type": "display_data"
        },
        {
          "data": {
            "text/plain": [
              "<pybamm.plotting.quick_plot.QuickPlot at 0x7f46b6c31180>"
            ]
          },
          "execution_count": 5,
          "metadata": {},
          "output_type": "execute_result"
        },
        {
          "data": {
            "image/png": "[encoded data removed]",
            "text/plain": [
              "<Figure size 800x400 with 2 Axes>"
            ]
          },
          "metadata": {},
          "output_type": "display_data"
        }
      ],
      "source": [
        "model = pybamm.lithium_ion.SPMe()\n",
        "parameter_values = pybamm.ParameterValues(values=pybamm.parameter_sets.Chen2020)\n",
        "sim = pybamm.Simulation(model, experiment=experiment, parameter_values=parameter_values)\n",
        "sim.solve()\n",
        "sim.plot([\"Terminal voltage [V]\", \"Current [A]\"])"
      ]
    },
    {
      "cell_type": "code",
      "execution_count": 6,
      "metadata": {
        "colab": {
          "base_uri": "https://localhost:8080/",
          "height": 960,
          "referenced_widgets": [
            "1ebfd39183fe482abc30f18f152b493b",
            "d2e31917e76144aeb7058074cdebc547",
            "6782573698d148d79af9c9fdd5614ffb",
            "aca2dfc5867049a59625d5e50451f4ef",
            "157c62c16d524f0ab4ffdc20e7a56eda",
            "2a8cdfbcc20f451fa80b6c66021a4fa9",
            "0db87e2e33ef4713944593bdb98c2597"
          ]
        },
        "id": "72qoeXlOBjV5",
        "outputId": "dff7445b-0be3-4258-e5ba-0d2651dd4e14"
      },
      "outputs": [
        {
          "name": "stderr",
          "output_type": "stream",
          "text": [
            "2023-05-18 03:52:52.344 - [NOTICE] callbacks.on_cycle_start(172): Cycle 1/3 (203.280 us elapsed) --------------------\n",
            "NOTICE:pybamm.logger:Cycle 1/3 (203.280 us elapsed) --------------------\n",
            "2023-05-18 03:52:52.349 - [NOTICE] callbacks.on_step_start(180): Cycle 1/3, step 1/4: Discharge at 1C until 2.5V\n",
            "NOTICE:pybamm.logger:Cycle 1/3, step 1/4: Discharge at 1C until 2.5V\n",
            "2023-05-18 03:52:52.412 - [NOTICE] callbacks.on_step_start(180): Cycle 1/3, step 2/4: Rest for 1 hour\n",
            "NOTICE:pybamm.logger:Cycle 1/3, step 2/4: Rest for 1 hour\n",
            "2023-05-18 03:52:52.459 - [NOTICE] callbacks.on_step_start(180): Cycle 1/3, step 3/4: Charge at 1C until 4.2V\n",
            "NOTICE:pybamm.logger:Cycle 1/3, step 3/4: Charge at 1C until 4.2V\n",
            "2023-05-18 03:52:52.533 - [NOTICE] callbacks.on_step_start(180): Cycle 1/3, step 4/4: Hold at 4.2V until C/50\n",
            "NOTICE:pybamm.logger:Cycle 1/3, step 4/4: Hold at 4.2V until C/50\n",
            "2023-05-18 03:52:53.361 - [NOTICE] callbacks.on_cycle_start(172): Cycle 2/3 (1.018 s elapsed) --------------------\n",
            "NOTICE:pybamm.logger:Cycle 2/3 (1.018 s elapsed) --------------------\n",
            "2023-05-18 03:52:53.367 - [NOTICE] callbacks.on_step_start(180): Cycle 2/3, step 1/4: Discharge at 1C until 2.5V\n",
            "NOTICE:pybamm.logger:Cycle 2/3, step 1/4: Discharge at 1C until 2.5V\n",
            "2023-05-18 03:52:53.394 - [NOTICE] callbacks.on_step_start(180): Cycle 2/3, step 2/4: Rest for 1 hour\n",
            "NOTICE:pybamm.logger:Cycle 2/3, step 2/4: Rest for 1 hour\n",
            "2023-05-18 03:52:53.411 - [NOTICE] callbacks.on_step_start(180): Cycle 2/3, step 3/4: Charge at 1C until 4.2V\n",
            "NOTICE:pybamm.logger:Cycle 2/3, step 3/4: Charge at 1C until 4.2V\n",
            "2023-05-18 03:52:53.433 - [NOTICE] callbacks.on_step_start(180): Cycle 2/3, step 4/4: Hold at 4.2V until C/50\n",
            "NOTICE:pybamm.logger:Cycle 2/3, step 4/4: Hold at 4.2V until C/50\n",
            "2023-05-18 03:52:53.793 - [NOTICE] callbacks.on_cycle_start(172): Cycle 3/3 (1.449 s elapsed) --------------------\n",
            "NOTICE:pybamm.logger:Cycle 3/3 (1.449 s elapsed) --------------------\n",
            "2023-05-18 03:52:53.799 - [NOTICE] callbacks.on_step_start(180): Cycle 3/3, step 1/4: Discharge at 1C until 2.5V\n",
            "NOTICE:pybamm.logger:Cycle 3/3, step 1/4: Discharge at 1C until 2.5V\n",
            "2023-05-18 03:52:53.822 - [NOTICE] callbacks.on_step_start(180): Cycle 3/3, step 2/4: Rest for 1 hour\n",
            "NOTICE:pybamm.logger:Cycle 3/3, step 2/4: Rest for 1 hour\n",
            "2023-05-18 03:52:53.839 - [NOTICE] callbacks.on_step_start(180): Cycle 3/3, step 3/4: Charge at 1C until 4.2V\n",
            "NOTICE:pybamm.logger:Cycle 3/3, step 3/4: Charge at 1C until 4.2V\n",
            "2023-05-18 03:52:53.859 - [NOTICE] callbacks.on_step_start(180): Cycle 3/3, step 4/4: Hold at 4.2V until C/50\n",
            "NOTICE:pybamm.logger:Cycle 3/3, step 4/4: Hold at 4.2V until C/50\n",
            "2023-05-18 03:52:54.234 - [NOTICE] callbacks.on_experiment_end(220): Finish experiment simulation, took 1.890 s\n",
            "NOTICE:pybamm.logger:Finish experiment simulation, took 1.890 s\n"
          ]
        },
        {
          "data": {
            "application/vnd.jupyter.widget-view+json": {
              "model_id": "1ebfd39183fe482abc30f18f152b493b",
              "version_major": 2,
              "version_minor": 0
            },
            "text/plain": [
              "interactive(children=(FloatSlider(value=0.0, description='t', max=11.70569529961376, step=0.1170569529961376),…"
            ]
          },
          "metadata": {},
          "output_type": "display_data"
        },
        {
          "data": {
            "text/plain": [
              "<pybamm.plotting.quick_plot.QuickPlot at 0x7f46b21b9120>"
            ]
          },
          "execution_count": 6,
          "metadata": {},
          "output_type": "execute_result"
        },
        {
          "data": {
            "image/png": "[encoded data removed]",
            "text/plain": [
              "<Figure size 800x400 with 2 Axes>"
            ]
          },
          "metadata": {},
          "output_type": "display_data"
        }
      ],
      "source": [
        "experiment = pybamm.Experiment([\n",
        "    (\"Discharge at 1C until 2.5V\",\n",
        "     \"Rest for 1 hour\",\n",
        "     \"Charge at 1C until 4.2V\",\n",
        "     \"Hold at 4.2V until C/50\")\n",
        "    ] * 3)\n",
        "model = pybamm.lithium_ion.SPMe()\n",
        "parameter_values = pybamm.ParameterValues(values=pybamm.parameter_sets.Chen2020)\n",
        "sim = pybamm.Simulation(model, experiment=experiment, parameter_values=parameter_values)\n",
        "sim.solve()\n",
        "sim.plot([\"Terminal voltage [V]\", \"Current [A]\"])"
      ]
    },
    {
      "cell_type": "code",
      "execution_count": 9,
      "metadata": {
        "colab": {
          "base_uri": "https://localhost:8080/"
        },
        "id": "1nTGclKzCK0s",
        "outputId": "cd8e1472-d171-43b0-839d-9e81a5869e8c"
      },
      "outputs": [
        {
          "data": {
            "text/plain": [
              "[<pybamm.solvers.solution.Solution at 0x7f46b173d7e0>,\n",
              " <pybamm.solvers.solution.Solution at 0x7f46b1905330>,\n",
              " <pybamm.solvers.solution.Solution at 0x7f46b178da80>]"
            ]
          },
          "execution_count": 9,
          "metadata": {},
          "output_type": "execute_result"
        }
      ],
      "source": [
        "sim.solution.cycles"
      ]
    },
    {
      "cell_type": "code",
      "execution_count": 10,
      "metadata": {
        "colab": {
          "base_uri": "https://localhost:8080/",
          "height": 385,
          "referenced_widgets": [
            "ee80280beac24df78ede30dcc3d0c2f1",
            "ded8de8a0dcd41e688e42e716cb1321c",
            "4e1dbdf6dceb467491212fb2980bdcb4",
            "f407a64bab3442a3b3e81ebe24c525f1",
            "5bd098f464654b90a4640e26833eb1a8",
            "65f198fa66394445ac91f85e19d3a96a",
            "7b313f16d3904d429b349fe2faf87869"
          ]
        },
        "id": "DS1Z2BrWCVbx",
        "outputId": "713dd43f-b731-48b1-aae2-1f032b382745"
      },
      "outputs": [
        {
          "data": {
            "application/vnd.jupyter.widget-view+json": {
              "model_id": "ee80280beac24df78ede30dcc3d0c2f1",
              "version_major": 2,
              "version_minor": 0
            },
            "text/plain": [
              "interactive(children=(FloatSlider(value=3.89882517210824, description='t', max=7.802260236790772, min=3.898825…"
            ]
          },
          "metadata": {},
          "output_type": "display_data"
        },
        {
          "data": {
            "text/plain": [
              "<pybamm.plotting.quick_plot.QuickPlot at 0x7f46b7355ba0>"
            ]
          },
          "execution_count": 10,
          "metadata": {},
          "output_type": "execute_result"
        },
        {
          "data": {
            "image/png": "[encoded data removed]",
            "text/plain": [
              "<Figure size 800x400 with 2 Axes>"
            ]
          },
          "metadata": {},
          "output_type": "display_data"
        }
      ],
      "source": [
        "sim.solution.cycles[1].plot([\"Terminal voltage [V]\", \"Current [A]\"])"
      ]
    },
    {
      "cell_type": "code",
      "execution_count": null,
      "metadata": {
        "id": "Cpfu3L8zDNxR"
      },
      "outputs": [],
      "source": []
    },
    {
      "cell_type": "code",
      "execution_count": 11,
      "metadata": {
        "colab": {
          "base_uri": "https://localhost:8080/"
        },
        "id": "-SAlNaF0Cz98",
        "outputId": "634daf14-1e24-4727-ac1e-df2537828916"
      },
      "outputs": [
        {
          "data": {
            "text/plain": [
              "[<pybamm.solvers.solution.Solution at 0x7f46b21aada0>,\n",
              " <pybamm.solvers.solution.Solution at 0x7f46b178c790>,\n",
              " <pybamm.solvers.solution.Solution at 0x7f46b21a8af0>,\n",
              " <pybamm.solvers.solution.Solution at 0x7f46b21aa9e0>]"
            ]
          },
          "execution_count": 11,
          "metadata": {},
          "output_type": "execute_result"
        }
      ],
      "source": [
        "sim.solution.cycles[1].steps"
      ]
    },
    {
      "cell_type": "code",
      "execution_count": 12,
      "metadata": {
        "colab": {
          "base_uri": "https://localhost:8080/",
          "height": 385,
          "referenced_widgets": [
            "05b81057de864143881d5a76505504f5",
            "0528e67a945747f3a9e1432b12421722",
            "91deb7cd9309452e8b44cb8fa831781a",
            "922bcc450faa430896e6d7be4ea61ca4",
            "d8dbdd4b58b44c6086d50a466a43d6d3",
            "8792f3eef24d4555b6caf9551ad2cd30",
            "608da45b9f34444997291b0f17ce8dab"
          ]
        },
        "id": "C2aVOk8vDQE6",
        "outputId": "6a9ab492-92a4-4e86-a44e-b98cf4ec1abe"
      },
      "outputs": [
        {
          "data": {
            "application/vnd.jupyter.widget-view+json": {
              "model_id": "05b81057de864143881d5a76505504f5",
              "version_major": 2,
              "version_minor": 0
            },
            "text/plain": [
              "interactive(children=(FloatSlider(value=3.89882517210824, description='t', max=4.891177767251721, min=3.898825…"
            ]
          },
          "metadata": {},
          "output_type": "display_data"
        },
        {
          "data": {
            "text/plain": [
              "<pybamm.plotting.quick_plot.QuickPlot at 0x7f46b7252980>"
            ]
          },
          "execution_count": 12,
          "metadata": {},
          "output_type": "execute_result"
        },
        {
          "data": {
            "image/png": "[encoded data removed]",
            "text/plain": [
              "<Figure size 800x400 with 2 Axes>"
            ]
          },
          "metadata": {},
          "output_type": "display_data"
        }
      ],
      "source": [
        "sim.solution.cycles[1].steps[0].plot([\"Terminal voltage [V]\", \"Current [A]\"])"
      ]
    },
    {
      "cell_type": "code",
      "execution_count": 13,
      "metadata": {
        "colab": {
          "base_uri": "https://localhost:8080/"
        },
        "id": "wSHIUJrHDa7d",
        "outputId": "7961bf3e-87c1-4eb6-8955-feb194e78ae3"
      },
      "outputs": [
        {
          "data": {
            "text/plain": [
              "5.0"
            ]
          },
          "execution_count": 13,
          "metadata": {},
          "output_type": "execute_result"
        }
      ],
      "source": [
        "parameter_values[\"Nominal cell capacity [A.h]\"]"
      ]
    },
    {
      "cell_type": "code",
      "execution_count": 14,
      "metadata": {
        "colab": {
          "base_uri": "https://localhost:8080/",
          "height": 578,
          "referenced_widgets": [
            "56a70c2086544b88bd00f220cec36b81",
            "d82223d293a64dd6b01cd23bb7c969e3",
            "db5c3c8c386743ea8ac2f355e709ad7e",
            "85f91c10f4d44cba937c75a1f3f190a8",
            "2da5dac84ea4449f83b2fd8285d967b7",
            "668a8d7fc31343efb54d3074ca402917",
            "94da1d5f28054e21b3140758bc91be92"
          ]
        },
        "id": "w3duB_n6Dw9-",
        "outputId": "5d5f9d75-ce82-4bac-bb63-46044ddd1e1c"
      },
      "outputs": [
        {
          "name": "stderr",
          "output_type": "stream",
          "text": [
            "2023-05-18 03:53:24.663 - [NOTICE] callbacks.on_cycle_start(172): Cycle 1/1 (202.941 us elapsed) --------------------\n",
            "NOTICE:pybamm.logger:Cycle 1/1 (202.941 us elapsed) --------------------\n",
            "2023-05-18 03:53:24.671 - [NOTICE] callbacks.on_step_start(180): Cycle 1/1, step 1/3: Discharge at 5A until 2.5V\n",
            "NOTICE:pybamm.logger:Cycle 1/1, step 1/3: Discharge at 5A until 2.5V\n",
            "2023-05-18 03:53:24.759 - [NOTICE] callbacks.on_step_start(180): Cycle 1/1, step 2/3: Charge at 15W until 4.2V\n",
            "NOTICE:pybamm.logger:Cycle 1/1, step 2/3: Charge at 15W until 4.2V\n",
            "2023-05-18 03:53:25.081 - [NOTICE] callbacks.on_step_start(180): Cycle 1/1, step 3/3: Hold at 4.2V until 0.01A\n",
            "NOTICE:pybamm.logger:Cycle 1/1, step 3/3: Hold at 4.2V until 0.01A\n",
            "2023-05-18 03:53:26.005 - [NOTICE] callbacks.on_experiment_end(220): Finish experiment simulation, took 1.342 s\n",
            "NOTICE:pybamm.logger:Finish experiment simulation, took 1.342 s\n"
          ]
        },
        {
          "data": {
            "application/vnd.jupyter.widget-view+json": {
              "model_id": "56a70c2086544b88bd00f220cec36b81",
              "version_major": 2,
              "version_minor": 0
            },
            "text/plain": [
              "interactive(children=(FloatSlider(value=0.0, description='t', max=3.791244529553666, step=0.03791244529553666)…"
            ]
          },
          "metadata": {},
          "output_type": "display_data"
        },
        {
          "data": {
            "text/plain": [
              "<pybamm.plotting.quick_plot.QuickPlot at 0x7f46b72a9330>"
            ]
          },
          "execution_count": 14,
          "metadata": {},
          "output_type": "execute_result"
        },
        {
          "data": {
            "image/png": "[encoded data removed]",
            "text/plain": [
              "<Figure size 800x400 with 2 Axes>"
            ]
          },
          "metadata": {},
          "output_type": "display_data"
        }
      ],
      "source": [
        "experiment = pybamm.Experiment([\n",
        "    (\"Discharge at 5A until 2.5V\",\n",
        "     \"Charge at 15W until 4.2V\",\n",
        "     \"Hold at 4.2V until 0.01A\")\n",
        "])\n",
        "sim = pybamm.Simulation(model, experiment=experiment, parameter_values=parameter_values)\n",
        "sim.solve()\n",
        "sim.plot([\"Terminal voltage [V]\", \"Current [A]\"])"
      ]
    },
    {
      "cell_type": "code",
      "execution_count": 15,
      "metadata": {
        "colab": {
          "base_uri": "https://localhost:8080/",
          "height": 278,
          "referenced_widgets": [
            "db71f69a31e3463c910b87a79bb7e62f",
            "a99c0ce526944b0896adcaf4ac75e36b",
            "cba9675c0f304501a1cb7f86e4c1b832",
            "3048b8745cf3440d92dc4e82f82c28fa",
            "a4bb5b6b08944c71b486e4c010587bf4",
            "2fe00250d17040c3a01849a76bc77f23",
            "9d5ba547fa3d490bba7284b83eba4551"
          ]
        },
        "id": "Du1_mgvMG4LQ",
        "outputId": "96d33d1f-d753-4d63-f465-4627ac2e6c57"
      },
      "outputs": [
        {
          "data": {
            "application/vnd.jupyter.widget-view+json": {
              "model_id": "db71f69a31e3463c910b87a79bb7e62f",
              "version_major": 2,
              "version_minor": 0
            },
            "text/plain": [
              "interactive(children=(FloatSlider(value=0.0, description='t', max=3.791244529553666, step=0.03791244529553666)…"
            ]
          },
          "metadata": {},
          "output_type": "display_data"
        },
        {
          "data": {
            "text/plain": [
              "<pybamm.plotting.quick_plot.QuickPlot at 0x7f46b149f580>"
            ]
          },
          "execution_count": 15,
          "metadata": {},
          "output_type": "execute_result"
        },
        {
          "data": {
            "image/png": "[encoded data removed]",
            "text/plain": [
              "<Figure size 1200x400 with 3 Axes>"
            ]
          },
          "metadata": {},
          "output_type": "display_data"
        }
      ],
      "source": [
        "sim.plot([\"Terminal voltage [V]\", \"Current [A]\", \"Terminal power [W]\"])"
      ]
    },
    {
      "cell_type": "code",
      "execution_count": 16,
      "metadata": {
        "colab": {
          "base_uri": "https://localhost:8080/",
          "height": 856,
          "referenced_widgets": [
            "db9745eeeb674767a5efd9d3e987f447",
            "713a5666fc1148f5bf0201a3e1dda5bb",
            "41ccad541ad3415aa186ff09cf5f06b6",
            "5cc4ac69eaa7464a8079486c78f5b2f8",
            "c852383367ca435ca48188107588cee2",
            "9d05f8550a94491d850fcb328173e3cc",
            "cc89a2f4a36c41a18091151606e6f575"
          ]
        },
        "id": "OjVVQ8Y-HIRa",
        "outputId": "60b41188-9e38-4935-f3bf-c171a80c9cbc"
      },
      "outputs": [
        {
          "name": "stderr",
          "output_type": "stream",
          "text": [
            "2023-05-18 03:53:38.197 - [NOTICE] callbacks.on_cycle_start(172): Cycle 1/1 (208.830 us elapsed) --------------------\n",
            "NOTICE:pybamm.logger:Cycle 1/1 (208.830 us elapsed) --------------------\n",
            "2023-05-18 03:53:38.204 - [NOTICE] callbacks.on_step_start(180): Cycle 1/1, step 1/11: Discharge at 5A until 2.5V\n",
            "NOTICE:pybamm.logger:Cycle 1/1, step 1/11: Discharge at 5A until 2.5V\n",
            "2023-05-18 03:53:38.276 - [NOTICE] callbacks.on_step_start(180): Cycle 1/1, step 2/11: Charge at 2C for 1 minute\n",
            "NOTICE:pybamm.logger:Cycle 1/1, step 2/11: Charge at 2C for 1 minute\n",
            "2023-05-18 03:53:38.324 - [NOTICE] callbacks.on_step_start(180): Cycle 1/1, step 3/11: Rest for 5 minutes\n",
            "NOTICE:pybamm.logger:Cycle 1/1, step 3/11: Rest for 5 minutes\n",
            "2023-05-18 03:53:38.363 - [NOTICE] callbacks.on_step_start(180): Cycle 1/1, step 4/11: Charge at 2C for 1 minute\n",
            "NOTICE:pybamm.logger:Cycle 1/1, step 4/11: Charge at 2C for 1 minute\n",
            "2023-05-18 03:53:38.377 - [NOTICE] callbacks.on_step_start(180): Cycle 1/1, step 5/11: Rest for 5 minutes\n",
            "NOTICE:pybamm.logger:Cycle 1/1, step 5/11: Rest for 5 minutes\n",
            "2023-05-18 03:53:38.389 - [NOTICE] callbacks.on_step_start(180): Cycle 1/1, step 6/11: Charge at 2C for 1 minute\n",
            "NOTICE:pybamm.logger:Cycle 1/1, step 6/11: Charge at 2C for 1 minute\n",
            "2023-05-18 03:53:38.399 - [NOTICE] callbacks.on_step_start(180): Cycle 1/1, step 7/11: Rest for 5 minutes\n",
            "NOTICE:pybamm.logger:Cycle 1/1, step 7/11: Rest for 5 minutes\n",
            "2023-05-18 03:53:38.411 - [NOTICE] callbacks.on_step_start(180): Cycle 1/1, step 8/11: Charge at 2C for 1 minute\n",
            "NOTICE:pybamm.logger:Cycle 1/1, step 8/11: Charge at 2C for 1 minute\n",
            "2023-05-18 03:53:38.421 - [NOTICE] callbacks.on_step_start(180): Cycle 1/1, step 9/11: Rest for 5 minutes\n",
            "NOTICE:pybamm.logger:Cycle 1/1, step 9/11: Rest for 5 minutes\n",
            "2023-05-18 03:53:38.432 - [NOTICE] callbacks.on_step_start(180): Cycle 1/1, step 10/11: Charge at 15W until 4.2V\n",
            "NOTICE:pybamm.logger:Cycle 1/1, step 10/11: Charge at 15W until 4.2V\n",
            "2023-05-18 03:53:38.628 - [NOTICE] callbacks.on_step_start(180): Cycle 1/1, step 11/11: Hold at 4.2V until 0.01A\n",
            "NOTICE:pybamm.logger:Cycle 1/1, step 11/11: Hold at 4.2V until 0.01A\n",
            "2023-05-18 03:53:39.269 - [NOTICE] callbacks.on_experiment_end(220): Finish experiment simulation, took 1.073 s\n",
            "NOTICE:pybamm.logger:Finish experiment simulation, took 1.073 s\n"
          ]
        },
        {
          "data": {
            "application/vnd.jupyter.widget-view+json": {
              "model_id": "db9745eeeb674767a5efd9d3e987f447",
              "version_major": 2,
              "version_minor": 0
            },
            "text/plain": [
              "interactive(children=(FloatSlider(value=0.0, description='t', max=4.036048542642362, step=0.04036048542642362)…"
            ]
          },
          "metadata": {},
          "output_type": "display_data"
        },
        {
          "data": {
            "text/plain": [
              "<pybamm.plotting.quick_plot.QuickPlot at 0x7f46b6f9c640>"
            ]
          },
          "execution_count": 16,
          "metadata": {},
          "output_type": "execute_result"
        },
        {
          "data": {
            "image/png": "[encoded data removed]",
            "text/plain": [
              "<Figure size 800x400 with 2 Axes>"
            ]
          },
          "metadata": {},
          "output_type": "display_data"
        }
      ],
      "source": [
        "cycle = [\"Discharge at 5A until 2.5V\"] + [\n",
        "    \"Charge at 2C for 1 minute (1 second period)\",\n",
        "    \"Rest for 5 minutes (10 second period)\",\n",
        "    ] * 4 + [\"Charge at 15W until 4.2V\", \"Hold at 4.2V until 0.01A\"]\n",
        "experiment = pybamm.Experiment([tuple(cycle)])\n",
        "sim = pybamm.Simulation(model, experiment=experiment, parameter_values=parameter_values)\n",
        "sim.solve()\n",
        "sim.plot([\"Terminal voltage [V]\", \"Current [A]\"])"
      ]
    },
    {
      "cell_type": "code",
      "execution_count": 17,
      "metadata": {
        "colab": {
          "base_uri": "https://localhost:8080/",
          "height": 430
        },
        "id": "5brElHpfLBQp",
        "outputId": "83dc1c60-1520-4629-a68f-f136c2a0a78f"
      },
      "outputs": [
        {
          "data": {
            "image/png": "[encoded data removed]",
            "text/plain": [
              "<Figure size 640x480 with 1 Axes>"
            ]
          },
          "metadata": {},
          "output_type": "display_data"
        }
      ],
      "source": [
        "sol = sim.solution\n",
        "for i in range(1,9):\n",
        "  step = sol.cycles[0].steps[i]\n",
        "  plt.plot(step[\"Time [h]\"].data, step[\"Terminal voltage [V]\"].data, \"r-\")"
      ]
    },
    {
      "cell_type": "code",
      "execution_count": 18,
      "metadata": {
        "colab": {
          "base_uri": "https://localhost:8080/",
          "height": 447
        },
        "id": "tmXMVhPqORff",
        "outputId": "4798f28f-253d-48b0-97b2-b5f64c40fe3b"
      },
      "outputs": [
        {
          "data": {
            "text/plain": [
              "[<matplotlib.lines.Line2D at 0x7f46b14cf610>]"
            ]
          },
          "execution_count": 18,
          "metadata": {},
          "output_type": "execute_result"
        },
        {
          "data": {
            "image/png": "[encoded data removed]",
            "text/plain": [
              "<Figure size 640x480 with 1 Axes>"
            ]
          },
          "metadata": {},
          "output_type": "display_data"
        }
      ],
      "source": [
        "pulses = sol.cycles[0].steps[1]\n",
        "for i in range(2,9):\n",
        "  pulses += sol.cycles[0].steps[i]\n",
        "plt.plot(pulses[\"Time [h]\"].data, pulses[\"Terminal voltage [V]\"].data)"
      ]
    },
    {
      "cell_type": "code",
      "execution_count": 19,
      "metadata": {
        "colab": {
          "base_uri": "https://localhost:8080/"
        },
        "id": "BKj1waUjO7OB",
        "outputId": "bf3ea3e7-f3f2-46ec-d72e-b39e9b56ad5a"
      },
      "outputs": [
        {
          "data": {
            "text/plain": [
              "<pybamm.solvers.solution.Solution at 0x7f46b72e0b50>"
            ]
          },
          "execution_count": 19,
          "metadata": {},
          "output_type": "execute_result"
        }
      ],
      "source": [
        "pulses"
      ]
    },
    {
      "cell_type": "code",
      "execution_count": 20,
      "metadata": {
        "colab": {
          "base_uri": "https://localhost:8080/",
          "height": 456,
          "referenced_widgets": [
            "248f35040bea43e799f848a5e666338c",
            "6f7f39b934294086be877592e2614157",
            "dc53af7948dd488ca67d754085bde255",
            "c5ec76dcdc174a57b8080018823e1909",
            "5b812c6c3d304240a6f67b87d21d56fa",
            "59e99d89494045b4a439ae05dc4b6217",
            "8c62b5ffe16745309db0d0dc93ffe255"
          ]
        },
        "id": "hwU1cP-bO-tk",
        "outputId": "7c2a2f9f-00ad-45e1-f34d-6f3ecf4eb2c6"
      },
      "outputs": [
        {
          "data": {
            "application/vnd.jupyter.widget-view+json": {
              "model_id": "248f35040bea43e799f848a5e666338c",
              "version_major": 2,
              "version_minor": 0
            },
            "text/plain": [
              "interactive(children=(FloatSlider(value=0.9877426593767745, description='t', max=1.387742659376497, min=0.9877…"
            ]
          },
          "metadata": {},
          "output_type": "display_data"
        },
        {
          "data": {
            "text/plain": [
              "<pybamm.plotting.quick_plot.QuickPlot at 0x7f46b110ac80>"
            ]
          },
          "execution_count": 20,
          "metadata": {},
          "output_type": "execute_result"
        },
        {
          "data": {
            "image/png": "[encoded data removed]",
            "text/plain": [
              "<Figure size 400x400 with 1 Axes>"
            ]
          },
          "metadata": {},
          "output_type": "display_data"
        }
      ],
      "source": [
        "pulses.plot([\"Terminal voltage [V]\"])"
      ]
    },
    {
      "cell_type": "code",
      "execution_count": 21,
      "metadata": {
        "colab": {
          "base_uri": "https://localhost:8080/",
          "height": 1000,
          "referenced_widgets": [
            "e9df086678e449b397ca1b7d1dff9ac0",
            "0473c1417c24441a8ff8d00baa320580",
            "3e159c21337140b6a137c414ec0a22b1",
            "a35eeedeb13e4918962c676760746da5",
            "ca038cc44f554d589a8177a7ca235c80",
            "2a4389f56a4248f6a94bd70ed54a6ab1",
            "7f58370d17914bd99add86244c2639d1"
          ]
        },
        "id": "RDhljPx9PHcP",
        "outputId": "43dfa132-5f98-4e2d-be7b-c27513274c17"
      },
      "outputs": [
        {
          "name": "stderr",
          "output_type": "stream",
          "text": [
            "2023-05-18 03:53:58.061 - [NOTICE] callbacks.on_cycle_start(172): Cycle 1/1 (187.630 us elapsed) --------------------\n",
            "NOTICE:pybamm.logger:Cycle 1/1 (187.630 us elapsed) --------------------\n",
            "2023-05-18 03:53:58.067 - [NOTICE] callbacks.on_step_start(180): Cycle 1/1, step 1/40: Discharge at C/20 for 1 hour\n",
            "NOTICE:pybamm.logger:Cycle 1/1, step 1/40: Discharge at C/20 for 1 hour\n",
            "2023-05-18 03:53:58.120 - [NOTICE] callbacks.on_step_start(180): Cycle 1/1, step 2/40: Rest for 1 hour\n",
            "NOTICE:pybamm.logger:Cycle 1/1, step 2/40: Rest for 1 hour\n",
            "2023-05-18 03:53:58.167 - [NOTICE] callbacks.on_step_start(180): Cycle 1/1, step 3/40: Discharge at C/20 for 1 hour\n",
            "NOTICE:pybamm.logger:Cycle 1/1, step 3/40: Discharge at C/20 for 1 hour\n",
            "2023-05-18 03:53:58.188 - [NOTICE] callbacks.on_step_start(180): Cycle 1/1, step 4/40: Rest for 1 hour\n",
            "NOTICE:pybamm.logger:Cycle 1/1, step 4/40: Rest for 1 hour\n",
            "2023-05-18 03:53:58.204 - [NOTICE] callbacks.on_step_start(180): Cycle 1/1, step 5/40: Discharge at C/20 for 1 hour\n",
            "NOTICE:pybamm.logger:Cycle 1/1, step 5/40: Discharge at C/20 for 1 hour\n",
            "2023-05-18 03:53:58.220 - [NOTICE] callbacks.on_step_start(180): Cycle 1/1, step 6/40: Rest for 1 hour\n",
            "NOTICE:pybamm.logger:Cycle 1/1, step 6/40: Rest for 1 hour\n",
            "2023-05-18 03:53:58.236 - [NOTICE] callbacks.on_step_start(180): Cycle 1/1, step 7/40: Discharge at C/20 for 1 hour\n",
            "NOTICE:pybamm.logger:Cycle 1/1, step 7/40: Discharge at C/20 for 1 hour\n",
            "2023-05-18 03:53:58.251 - [NOTICE] callbacks.on_step_start(180): Cycle 1/1, step 8/40: Rest for 1 hour\n",
            "NOTICE:pybamm.logger:Cycle 1/1, step 8/40: Rest for 1 hour\n",
            "2023-05-18 03:53:58.268 - [NOTICE] callbacks.on_step_start(180): Cycle 1/1, step 9/40: Discharge at C/20 for 1 hour\n",
            "NOTICE:pybamm.logger:Cycle 1/1, step 9/40: Discharge at C/20 for 1 hour\n",
            "2023-05-18 03:53:58.283 - [NOTICE] callbacks.on_step_start(180): Cycle 1/1, step 10/40: Rest for 1 hour\n",
            "NOTICE:pybamm.logger:Cycle 1/1, step 10/40: Rest for 1 hour\n",
            "2023-05-18 03:53:58.297 - [NOTICE] callbacks.on_step_start(180): Cycle 1/1, step 11/40: Discharge at C/20 for 1 hour\n",
            "NOTICE:pybamm.logger:Cycle 1/1, step 11/40: Discharge at C/20 for 1 hour\n",
            "2023-05-18 03:53:58.314 - [NOTICE] callbacks.on_step_start(180): Cycle 1/1, step 12/40: Rest for 1 hour\n",
            "NOTICE:pybamm.logger:Cycle 1/1, step 12/40: Rest for 1 hour\n",
            "2023-05-18 03:53:58.332 - [NOTICE] callbacks.on_step_start(180): Cycle 1/1, step 13/40: Discharge at C/20 for 1 hour\n",
            "NOTICE:pybamm.logger:Cycle 1/1, step 13/40: Discharge at C/20 for 1 hour\n",
            "2023-05-18 03:53:58.348 - [NOTICE] callbacks.on_step_start(180): Cycle 1/1, step 14/40: Rest for 1 hour\n",
            "NOTICE:pybamm.logger:Cycle 1/1, step 14/40: Rest for 1 hour\n",
            "2023-05-18 03:53:58.367 - [NOTICE] callbacks.on_step_start(180): Cycle 1/1, step 15/40: Discharge at C/20 for 1 hour\n",
            "NOTICE:pybamm.logger:Cycle 1/1, step 15/40: Discharge at C/20 for 1 hour\n",
            "2023-05-18 03:53:58.387 - [NOTICE] callbacks.on_step_start(180): Cycle 1/1, step 16/40: Rest for 1 hour\n",
            "NOTICE:pybamm.logger:Cycle 1/1, step 16/40: Rest for 1 hour\n",
            "2023-05-18 03:53:58.404 - [NOTICE] callbacks.on_step_start(180): Cycle 1/1, step 17/40: Discharge at C/20 for 1 hour\n",
            "NOTICE:pybamm.logger:Cycle 1/1, step 17/40: Discharge at C/20 for 1 hour\n",
            "2023-05-18 03:53:58.420 - [NOTICE] callbacks.on_step_start(180): Cycle 1/1, step 18/40: Rest for 1 hour\n",
            "NOTICE:pybamm.logger:Cycle 1/1, step 18/40: Rest for 1 hour\n",
            "2023-05-18 03:53:58.436 - [NOTICE] callbacks.on_step_start(180): Cycle 1/1, step 19/40: Discharge at C/20 for 1 hour\n",
            "NOTICE:pybamm.logger:Cycle 1/1, step 19/40: Discharge at C/20 for 1 hour\n",
            "2023-05-18 03:53:58.452 - [NOTICE] callbacks.on_step_start(180): Cycle 1/1, step 20/40: Rest for 1 hour\n",
            "NOTICE:pybamm.logger:Cycle 1/1, step 20/40: Rest for 1 hour\n",
            "2023-05-18 03:53:58.468 - [NOTICE] callbacks.on_step_start(180): Cycle 1/1, step 21/40: Discharge at C/20 for 1 hour\n",
            "NOTICE:pybamm.logger:Cycle 1/1, step 21/40: Discharge at C/20 for 1 hour\n",
            "2023-05-18 03:53:58.486 - [NOTICE] callbacks.on_step_start(180): Cycle 1/1, step 22/40: Rest for 1 hour\n",
            "NOTICE:pybamm.logger:Cycle 1/1, step 22/40: Rest for 1 hour\n",
            "2023-05-18 03:53:58.503 - [NOTICE] callbacks.on_step_start(180): Cycle 1/1, step 23/40: Discharge at C/20 for 1 hour\n",
            "NOTICE:pybamm.logger:Cycle 1/1, step 23/40: Discharge at C/20 for 1 hour\n",
            "2023-05-18 03:53:58.519 - [NOTICE] callbacks.on_step_start(180): Cycle 1/1, step 24/40: Rest for 1 hour\n",
            "NOTICE:pybamm.logger:Cycle 1/1, step 24/40: Rest for 1 hour\n",
            "2023-05-18 03:53:58.536 - [NOTICE] callbacks.on_step_start(180): Cycle 1/1, step 25/40: Discharge at C/20 for 1 hour\n",
            "NOTICE:pybamm.logger:Cycle 1/1, step 25/40: Discharge at C/20 for 1 hour\n",
            "2023-05-18 03:53:58.552 - [NOTICE] callbacks.on_step_start(180): Cycle 1/1, step 26/40: Rest for 1 hour\n",
            "NOTICE:pybamm.logger:Cycle 1/1, step 26/40: Rest for 1 hour\n",
            "2023-05-18 03:53:58.568 - [NOTICE] callbacks.on_step_start(180): Cycle 1/1, step 27/40: Discharge at C/20 for 1 hour\n",
            "NOTICE:pybamm.logger:Cycle 1/1, step 27/40: Discharge at C/20 for 1 hour\n",
            "2023-05-18 03:53:58.583 - [NOTICE] callbacks.on_step_start(180): Cycle 1/1, step 28/40: Rest for 1 hour\n",
            "NOTICE:pybamm.logger:Cycle 1/1, step 28/40: Rest for 1 hour\n",
            "2023-05-18 03:53:58.597 - [NOTICE] callbacks.on_step_start(180): Cycle 1/1, step 29/40: Discharge at C/20 for 1 hour\n",
            "NOTICE:pybamm.logger:Cycle 1/1, step 29/40: Discharge at C/20 for 1 hour\n",
            "2023-05-18 03:53:58.615 - [NOTICE] callbacks.on_step_start(180): Cycle 1/1, step 30/40: Rest for 1 hour\n",
            "NOTICE:pybamm.logger:Cycle 1/1, step 30/40: Rest for 1 hour\n",
            "2023-05-18 03:53:58.633 - [NOTICE] callbacks.on_step_start(180): Cycle 1/1, step 31/40: Discharge at C/20 for 1 hour\n",
            "NOTICE:pybamm.logger:Cycle 1/1, step 31/40: Discharge at C/20 for 1 hour\n",
            "2023-05-18 03:53:58.655 - [NOTICE] callbacks.on_step_start(180): Cycle 1/1, step 32/40: Rest for 1 hour\n",
            "NOTICE:pybamm.logger:Cycle 1/1, step 32/40: Rest for 1 hour\n",
            "2023-05-18 03:53:58.672 - [NOTICE] callbacks.on_step_start(180): Cycle 1/1, step 33/40: Discharge at C/20 for 1 hour\n",
            "NOTICE:pybamm.logger:Cycle 1/1, step 33/40: Discharge at C/20 for 1 hour\n",
            "2023-05-18 03:53:58.690 - [NOTICE] callbacks.on_step_start(180): Cycle 1/1, step 34/40: Rest for 1 hour\n",
            "NOTICE:pybamm.logger:Cycle 1/1, step 34/40: Rest for 1 hour\n",
            "2023-05-18 03:53:58.707 - [NOTICE] callbacks.on_step_start(180): Cycle 1/1, step 35/40: Discharge at C/20 for 1 hour\n",
            "NOTICE:pybamm.logger:Cycle 1/1, step 35/40: Discharge at C/20 for 1 hour\n",
            "2023-05-18 03:53:58.724 - [NOTICE] callbacks.on_step_start(180): Cycle 1/1, step 36/40: Rest for 1 hour\n",
            "NOTICE:pybamm.logger:Cycle 1/1, step 36/40: Rest for 1 hour\n",
            "2023-05-18 03:53:58.742 - [NOTICE] callbacks.on_step_start(180): Cycle 1/1, step 37/40: Discharge at C/20 for 1 hour\n",
            "NOTICE:pybamm.logger:Cycle 1/1, step 37/40: Discharge at C/20 for 1 hour\n",
            "2023-05-18 03:53:58.765 - [NOTICE] callbacks.on_step_start(180): Cycle 1/1, step 38/40: Rest for 1 hour\n",
            "NOTICE:pybamm.logger:Cycle 1/1, step 38/40: Rest for 1 hour\n",
            "2023-05-18 03:53:58.785 - [NOTICE] callbacks.on_step_start(180): Cycle 1/1, step 39/40: Discharge at C/20 for 1 hour\n",
            "NOTICE:pybamm.logger:Cycle 1/1, step 39/40: Discharge at C/20 for 1 hour\n",
            "2023-05-18 03:53:58.805 - [NOTICE] callbacks.on_step_start(180): Cycle 1/1, step 40/40: Rest for 1 hour\n",
            "NOTICE:pybamm.logger:Cycle 1/1, step 40/40: Rest for 1 hour\n",
            "2023-05-18 03:53:59.331 - [NOTICE] callbacks.on_experiment_end(220): Finish experiment simulation, took 1.270 s\n",
            "NOTICE:pybamm.logger:Finish experiment simulation, took 1.270 s\n"
          ]
        },
        {
          "data": {
            "application/vnd.jupyter.widget-view+json": {
              "model_id": "e9df086678e449b397ca1b7d1dff9ac0",
              "version_major": 2,
              "version_minor": 0
            },
            "text/plain": [
              "interactive(children=(FloatSlider(value=0.0, description='t', max=40.0, step=0.4), Output()), _dom_classes=('w…"
            ]
          },
          "metadata": {},
          "output_type": "display_data"
        },
        {
          "data": {
            "text/plain": [
              "<pybamm.plotting.quick_plot.QuickPlot at 0x7f46b6c21480>"
            ]
          },
          "execution_count": 21,
          "metadata": {},
          "output_type": "execute_result"
        },
        {
          "data": {
            "image/png": "[encoded data removed]",
            "text/plain": [
              "<Figure size 800x400 with 2 Axes>"
            ]
          },
          "metadata": {},
          "output_type": "display_data"
        }
      ],
      "source": [
        "cycle = [\"Discharge at C/20 for 1 hour\", \"Rest for 1 hour\"] * 20\n",
        "experiment = pybamm.Experiment([tuple(cycle)])\n",
        "sim = pybamm.Simulation(model, experiment=experiment, parameter_values=parameter_values)\n",
        "sim.solve()\n",
        "sim.plot([\"Terminal voltage [V]\", \"Current [A]\"])"
      ]
    },
    {
      "cell_type": "code",
      "execution_count": 22,
      "metadata": {
        "colab": {
          "base_uri": "https://localhost:8080/"
        },
        "id": "dO8Z7jt5PrL3",
        "outputId": "a5eec48c-ce79-46fb-9dc0-95c9f8815c8c"
      },
      "outputs": [
        {
          "data": {
            "text/plain": [
              "[0.09639163767789141, 0.0, 0.0, 0.0, 0.0, -0.11131609544437751]"
            ]
          },
          "execution_count": 22,
          "metadata": {},
          "output_type": "execute_result"
        }
      ],
      "source": [
        "def extract_resistance(step):\n",
        "  return step[\"Local ECM resistance [Ohm]\"].data[-1]\n",
        "\n",
        "Rs = [extract_resistance(step) for i, step in enumerate(sol.cycles[0].steps) if i%2==0]\n",
        "Rs\n",
        "# plt.plot(np.arrange(20), Rs)"
      ]
    },
    {
      "cell_type": "code",
      "execution_count": 23,
      "metadata": {
        "colab": {
          "base_uri": "https://localhost:8080/"
        },
        "id": "0y3PncVBQ5Ot",
        "outputId": "370a68cd-b4c8-4343-fb7f-f13ca659f8eb"
      },
      "outputs": [
        {
          "data": {
            "text/plain": [
              "[0.06480803910348243,\n",
              " 0.048108828224741274,\n",
              " 0.05662391457515881,\n",
              " 0.06266220918814014,\n",
              " 0.06040879658536724,\n",
              " 0.05713809883637744,\n",
              " 0.05602215514893061,\n",
              " 0.055300577316218735,\n",
              " 0.05842446258451872,\n",
              " 0.06005062694605279,\n",
              " 0.05686854743364478,\n",
              " 0.05318449876662612,\n",
              " 0.05202445076515261,\n",
              " 0.0529347781556222,\n",
              " 0.05390141615045607,\n",
              " 0.05469239100709089,\n",
              " 0.05835560753626012,\n",
              " 0.07016568072961249,\n",
              " 0.07821910209280425,\n",
              " 0.12910147879493827]"
            ]
          },
          "execution_count": 23,
          "metadata": {},
          "output_type": "execute_result"
        }
      ],
      "source": [
        "sol = sim.solution\n",
        "def extract_resistance(step):\n",
        "  return step[\"Local ECM resistance [Ohm]\"].data[-1]\n",
        "\n",
        "Rs = [extract_resistance(step) for i, step in enumerate(sol.cycles[0].steps) if i%2==0]\n",
        "Rs\n",
        "# plt.plot(np.arrange(20), Rs)"
      ]
    },
    {
      "cell_type": "code",
      "execution_count": 24,
      "metadata": {
        "colab": {
          "base_uri": "https://localhost:8080/",
          "height": 447
        },
        "id": "-Ew1uDfLQ7ej",
        "outputId": "e0f44646-df16-4e46-8f51-711d29c2ba5f"
      },
      "outputs": [
        {
          "data": {
            "text/plain": [
              "[<matplotlib.lines.Line2D at 0x7f46b07f4550>]"
            ]
          },
          "execution_count": 24,
          "metadata": {},
          "output_type": "execute_result"
        },
        {
          "data": {
            "image/png": "[encoded data removed]",
            "text/plain": [
              "<Figure size 640x480 with 1 Axes>"
            ]
          },
          "metadata": {},
          "output_type": "display_data"
        }
      ],
      "source": [
        "sol = sim.solution\n",
        "def extract_resistance(step):\n",
        "  return step[\"Local ECM resistance [Ohm]\"].data[-1]\n",
        "\n",
        "Rs = [extract_resistance(step) for i, step in enumerate(sol.cycles[0].steps) if i%2==0]\n",
        "plt.plot(np.arange(20), Rs)"
      ]
    },
    {
      "cell_type": "code",
      "execution_count": 25,
      "metadata": {
        "colab": {
          "base_uri": "https://localhost:8080/"
        },
        "id": "p7kuiZWT_vhI",
        "outputId": "9c265661-a0a4-46f3-cee2-c5220159821b"
      },
      "outputs": [
        {
          "name": "stderr",
          "output_type": "stream",
          "text": [
            "2023-05-18 03:59:59.507 - [NOTICE] callbacks.on_cycle_start(172): Cycle 1/1 (203.190 us elapsed) --------------------\n",
            "NOTICE:pybamm.logger:Cycle 1/1 (203.190 us elapsed) --------------------\n",
            "2023-05-18 03:59:59.513 - [NOTICE] callbacks.on_step_start(180): Cycle 1/1, step 1/2: Charge at 1C until 4.2V\n",
            "NOTICE:pybamm.logger:Cycle 1/1, step 1/2: Charge at 1C until 4.2V\n",
            "2023-05-18 03:59:59.581 - [NOTICE] callbacks.on_step_start(180): Cycle 1/1, step 2/2: Hold at 4.2V until C/50\n",
            "NOTICE:pybamm.logger:Cycle 1/1, step 2/2: Hold at 4.2V until C/50\n",
            "2023-05-18 04:00:00.432 - [NOTICE] callbacks.on_experiment_end(220): Finish experiment simulation, took 924.187 ms\n",
            "NOTICE:pybamm.logger:Finish experiment simulation, took 924.187 ms\n",
            "2023-05-18 04:00:02.045 - [NOTICE] callbacks.on_cycle_start(172): Cycle 1/1 (217.650 us elapsed) --------------------\n",
            "NOTICE:pybamm.logger:Cycle 1/1 (217.650 us elapsed) --------------------\n",
            "2023-05-18 04:00:02.052 - [NOTICE] callbacks.on_step_start(180): Cycle 1/1, step 1/2: Charge at 1C until 4.2V\n",
            "NOTICE:pybamm.logger:Cycle 1/1, step 1/2: Charge at 1C until 4.2V\n",
            "2023-05-18 04:00:02.124 - [NOTICE] callbacks.on_step_start(180): Cycle 1/1, step 2/2: Hold at 4.2V until C/50\n",
            "NOTICE:pybamm.logger:Cycle 1/1, step 2/2: Hold at 4.2V until C/50\n",
            "2023-05-18 04:00:02.696 - [NOTICE] callbacks.on_experiment_end(220): Finish experiment simulation, took 650.927 ms\n",
            "NOTICE:pybamm.logger:Finish experiment simulation, took 650.927 ms\n",
            "2023-05-18 04:00:03.697 - [NOTICE] callbacks.on_cycle_start(172): Cycle 1/1 (182.510 us elapsed) --------------------\n",
            "NOTICE:pybamm.logger:Cycle 1/1 (182.510 us elapsed) --------------------\n",
            "2023-05-18 04:00:03.704 - [NOTICE] callbacks.on_step_start(180): Cycle 1/1, step 1/2: Charge at 1C until 4.2V\n",
            "NOTICE:pybamm.logger:Cycle 1/1, step 1/2: Charge at 1C until 4.2V\n",
            "2023-05-18 04:00:03.768 - [NOTICE] callbacks.on_step_start(180): Cycle 1/1, step 2/2: Hold at 4.2V until C/50\n",
            "NOTICE:pybamm.logger:Cycle 1/1, step 2/2: Hold at 4.2V until C/50\n",
            "2023-05-18 04:00:04.344 - [NOTICE] callbacks.on_experiment_end(220): Finish experiment simulation, took 647.516 ms\n",
            "NOTICE:pybamm.logger:Finish experiment simulation, took 647.516 ms\n",
            "2023-05-18 04:00:05.590 - [NOTICE] callbacks.on_cycle_start(172): Cycle 1/1 (166.910 us elapsed) --------------------\n",
            "NOTICE:pybamm.logger:Cycle 1/1 (166.910 us elapsed) --------------------\n",
            "2023-05-18 04:00:05.594 - [NOTICE] callbacks.on_step_start(180): Cycle 1/1, step 1/2: Charge at 1C until 4.2V\n",
            "NOTICE:pybamm.logger:Cycle 1/1, step 1/2: Charge at 1C until 4.2V\n",
            "2023-05-18 04:00:05.647 - [NOTICE] callbacks.on_step_start(180): Cycle 1/1, step 2/2: Hold at 4.2V until C/50\n",
            "NOTICE:pybamm.logger:Cycle 1/1, step 2/2: Hold at 4.2V until C/50\n",
            "2023-05-18 04:00:06.227 - [NOTICE] callbacks.on_experiment_end(220): Finish experiment simulation, took 636.922 ms\n",
            "NOTICE:pybamm.logger:Finish experiment simulation, took 636.922 ms\n",
            "2023-05-18 04:00:07.116 - [NOTICE] callbacks.on_cycle_start(172): Cycle 1/1 (180.140 us elapsed) --------------------\n",
            "NOTICE:pybamm.logger:Cycle 1/1 (180.140 us elapsed) --------------------\n",
            "2023-05-18 04:00:07.119 - [NOTICE] callbacks.on_step_start(180): Cycle 1/1, step 1/2: Charge at 1C until 4.2V\n",
            "NOTICE:pybamm.logger:Cycle 1/1, step 1/2: Charge at 1C until 4.2V\n",
            "2023-05-18 04:00:07.185 - [NOTICE] callbacks.on_step_start(180): Cycle 1/1, step 2/2: Hold at 4.2V until C/50\n",
            "NOTICE:pybamm.logger:Cycle 1/1, step 2/2: Hold at 4.2V until C/50\n",
            "2023-05-18 04:00:07.739 - [NOTICE] callbacks.on_experiment_end(220): Finish experiment simulation, took 622.552 ms\n",
            "NOTICE:pybamm.logger:Finish experiment simulation, took 622.552 ms\n"
          ]
        }
      ],
      "source": [
        "experiment = pybamm.Experiment([(\"Charge at 1C until 4.2V\", \"Hold at 4.2V until C/50\")])\n",
        "sols = []\n",
        "init_socs = [0,0.2,0.4,0.6,0.8]\n",
        "for initial_soc in init_socs:\n",
        "  sim = pybamm.Simulation(model, experiment=experiment, parameter_values=parameter_values)\n",
        "  sol = sim.solve(initial_soc=initial_soc)\n",
        "  sols.append(sol)"
      ]
    },
    {
      "cell_type": "code",
      "execution_count": 27,
      "metadata": {
        "colab": {
          "base_uri": "https://localhost:8080/",
          "height": 784,
          "referenced_widgets": [
            "776708202c8a485cbb7242585ac66651",
            "235ad2863b274c05b6d70d7aaf89b865",
            "87eac75cb3684f6aba47eb943b021d28",
            "cc95ea4488d0412e81b4129f28b53731",
            "2f7d93a01d234fe9a323ba90b33daf83",
            "6e42265d8764441797ed7c8f3e8fbb04",
            "3ab611657ce447bb8c3a0fe258db9ce1"
          ]
        },
        "id": "2Rr9i3cKA_zi",
        "outputId": "081b1257-6fe5-44c3-badf-2d47dc02430b"
      },
      "outputs": [
        {
          "data": {
            "application/vnd.jupyter.widget-view+json": {
              "model_id": "776708202c8a485cbb7242585ac66651",
              "version_major": 2,
              "version_minor": 0
            },
            "text/plain": [
              "interactive(children=(FloatSlider(value=0.0, description='t', max=1.9432363680045437, step=0.01943236368004543…"
            ]
          },
          "metadata": {},
          "output_type": "display_data"
        },
        {
          "data": {
            "text/plain": [
              "<pybamm.plotting.quick_plot.QuickPlot at 0x7f46b6c73730>"
            ]
          },
          "execution_count": 27,
          "metadata": {},
          "output_type": "execute_result"
        },
        {
          "data": {
            "image/png": "[encoded data removed]",
            "text/plain": [
              "<Figure size 1500x700 with 8 Axes>"
            ]
          },
          "metadata": {},
          "output_type": "display_data"
        }
      ],
      "source": [
        "pybamm.dynamic_plot(sols,labels={f\"initial soc = {x}\" for x in init_socs})"
      ]
    },
    {
      "cell_type": "code",
      "execution_count": 32,
      "metadata": {
        "colab": {
          "base_uri": "https://localhost:8080/",
          "height": 452
        },
        "id": "zujBheaRBnS6",
        "outputId": "bb4e5974-0400-4b45-ef34-0278c5d285d0"
      },
      "outputs": [
        {
          "data": {
            "image/png": "[encoded data removed]",
            "text/plain": [
              "<Figure size 640x480 with 2 Axes>"
            ]
          },
          "metadata": {},
          "output_type": "display_data"
        }
      ],
      "source": [
        "fig, ax = plt.subplots(1,2)\n",
        "\n",
        "for sol in sols:\n",
        "  cc = sol.cycles[0].steps[0]\n",
        "  cv = sol.cycles[0].steps[1]\n",
        "  t_cc = cc[\"Time [h]\"].data\n",
        "  t_cv = cv[\"Time [h]\"].data\n",
        "  ax[0].plot(t_cc-t_cv[0], cc[\"Terminal voltage [V]\"].data)\n",
        "  ax[0].set_title(\"Voltage [v] during CC\")\n",
        "  ax[1].plot(t_cv-t_cv[0], cv[\"Current [A]\"].data)\n",
        "  ax[1].set_title(\"Current [A] during CV\")\n",
        "  ax[1].legend([f\"initial soc = {x}\" for x in init_socs])"
      ]
    }
  ],
  "metadata": {
    "colab": {
      "provenance": []
    },
    "kernelspec": {
      "display_name": "Python 3",
      "name": "python3"
    },
    "language_info": {
      "name": "python"
    },
    "widgets": {
      "application/vnd.jupyter.widget-state+json": {
        "0473c1417c24441a8ff8d00baa320580": {
          "model_module": "@jupyter-widgets/controls",
          "model_module_version": "1.5.0",
          "model_name": "FloatSliderModel",
          "state": {
            "_dom_classes": [],
            "_model_module": "@jupyter-widgets/controls",
            "_model_module_version": "1.5.0",
            "_model_name": "FloatSliderModel",
            "_view_count": null,
            "_view_module": "@jupyter-widgets/controls",
            "_view_module_version": "1.5.0",
            "_view_name": "FloatSliderView",
            "continuous_update": true,
            "description": "t",
            "description_tooltip": null,
            "disabled": false,
            "layout": "IPY_MODEL_ca038cc44f554d589a8177a7ca235c80",
            "max": 40,
            "min": 0,
            "orientation": "horizontal",
            "readout": true,
            "readout_format": ".2f",
            "step": 0.4,
            "style": "IPY_MODEL_2a4389f56a4248f6a94bd70ed54a6ab1",
            "value": 0
          }
        },
        "0528e67a945747f3a9e1432b12421722": {
          "model_module": "@jupyter-widgets/controls",
          "model_module_version": "1.5.0",
          "model_name": "FloatSliderModel",
          "state": {
            "_dom_classes": [],
            "_model_module": "@jupyter-widgets/controls",
            "_model_module_version": "1.5.0",
            "_model_name": "FloatSliderModel",
            "_view_count": null,
            "_view_module": "@jupyter-widgets/controls",
            "_view_module_version": "1.5.0",
            "_view_name": "FloatSliderView",
            "continuous_update": true,
            "description": "t",
            "description_tooltip": null,
            "disabled": false,
            "layout": "IPY_MODEL_d8dbdd4b58b44c6086d50a466a43d6d3",
            "max": 4.891177767251721,
            "min": 3.89882517210824,
            "orientation": "horizontal",
            "readout": true,
            "readout_format": ".2f",
            "step": 0.048911777672517205,
            "style": "IPY_MODEL_8792f3eef24d4555b6caf9551ad2cd30",
            "value": 3.89882517210824
          }
        },
        "05b81057de864143881d5a76505504f5": {
          "model_module": "@jupyter-widgets/controls",
          "model_module_version": "1.5.0",
          "model_name": "VBoxModel",
          "state": {
            "_dom_classes": [
              "widget-interact"
            ],
            "_model_module": "@jupyter-widgets/controls",
            "_model_module_version": "1.5.0",
            "_model_name": "VBoxModel",
            "_view_count": null,
            "_view_module": "@jupyter-widgets/controls",
            "_view_module_version": "1.5.0",
            "_view_name": "VBoxView",
            "box_style": "",
            "children": [
              "IPY_MODEL_0528e67a945747f3a9e1432b12421722",
              "IPY_MODEL_91deb7cd9309452e8b44cb8fa831781a"
            ],
            "layout": "IPY_MODEL_922bcc450faa430896e6d7be4ea61ca4"
          }
        },
        "0db87e2e33ef4713944593bdb98c2597": {
          "model_module": "@jupyter-widgets/base",
          "model_module_version": "1.2.0",
          "model_name": "LayoutModel",
          "state": {
            "_model_module": "@jupyter-widgets/base",
            "_model_module_version": "1.2.0",
            "_model_name": "LayoutModel",
            "_view_count": null,
            "_view_module": "@jupyter-widgets/base",
            "_view_module_version": "1.2.0",
            "_view_name": "LayoutView",
            "align_content": null,
            "align_items": null,
            "align_self": null,
            "border": null,
            "bottom": null,
            "display": null,
            "flex": null,
            "flex_flow": null,
            "grid_area": null,
            "grid_auto_columns": null,
            "grid_auto_flow": null,
            "grid_auto_rows": null,
            "grid_column": null,
            "grid_gap": null,
            "grid_row": null,
            "grid_template_areas": null,
            "grid_template_columns": null,
            "grid_template_rows": null,
            "height": null,
            "justify_content": null,
            "justify_items": null,
            "left": null,
            "margin": null,
            "max_height": null,
            "max_width": null,
            "min_height": null,
            "min_width": null,
            "object_fit": null,
            "object_position": null,
            "order": null,
            "overflow": null,
            "overflow_x": null,
            "overflow_y": null,
            "padding": null,
            "right": null,
            "top": null,
            "visibility": null,
            "width": null
          }
        },
        "157c62c16d524f0ab4ffdc20e7a56eda": {
          "model_module": "@jupyter-widgets/base",
          "model_module_version": "1.2.0",
          "model_name": "LayoutModel",
          "state": {
            "_model_module": "@jupyter-widgets/base",
            "_model_module_version": "1.2.0",
            "_model_name": "LayoutModel",
            "_view_count": null,
            "_view_module": "@jupyter-widgets/base",
            "_view_module_version": "1.2.0",
            "_view_name": "LayoutView",
            "align_content": null,
            "align_items": null,
            "align_self": null,
            "border": null,
            "bottom": null,
            "display": null,
            "flex": null,
            "flex_flow": null,
            "grid_area": null,
            "grid_auto_columns": null,
            "grid_auto_flow": null,
            "grid_auto_rows": null,
            "grid_column": null,
            "grid_gap": null,
            "grid_row": null,
            "grid_template_areas": null,
            "grid_template_columns": null,
            "grid_template_rows": null,
            "height": null,
            "justify_content": null,
            "justify_items": null,
            "left": null,
            "margin": null,
            "max_height": null,
            "max_width": null,
            "min_height": null,
            "min_width": null,
            "object_fit": null,
            "object_position": null,
            "order": null,
            "overflow": null,
            "overflow_x": null,
            "overflow_y": null,
            "padding": null,
            "right": null,
            "top": null,
            "visibility": null,
            "width": null
          }
        },
        "1ebfd39183fe482abc30f18f152b493b": {
          "model_module": "@jupyter-widgets/controls",
          "model_module_version": "1.5.0",
          "model_name": "VBoxModel",
          "state": {
            "_dom_classes": [
              "widget-interact"
            ],
            "_model_module": "@jupyter-widgets/controls",
            "_model_module_version": "1.5.0",
            "_model_name": "VBoxModel",
            "_view_count": null,
            "_view_module": "@jupyter-widgets/controls",
            "_view_module_version": "1.5.0",
            "_view_name": "VBoxView",
            "box_style": "",
            "children": [
              "IPY_MODEL_d2e31917e76144aeb7058074cdebc547",
              "IPY_MODEL_6782573698d148d79af9c9fdd5614ffb"
            ],
            "layout": "IPY_MODEL_aca2dfc5867049a59625d5e50451f4ef"
          }
        },
        "235ad2863b274c05b6d70d7aaf89b865": {
          "model_module": "@jupyter-widgets/controls",
          "model_module_version": "1.5.0",
          "model_name": "FloatSliderModel",
          "state": {
            "_dom_classes": [],
            "_model_module": "@jupyter-widgets/controls",
            "_model_module_version": "1.5.0",
            "_model_name": "FloatSliderModel",
            "_view_count": null,
            "_view_module": "@jupyter-widgets/controls",
            "_view_module_version": "1.5.0",
            "_view_name": "FloatSliderView",
            "continuous_update": true,
            "description": "t",
            "description_tooltip": null,
            "disabled": false,
            "layout": "IPY_MODEL_2f7d93a01d234fe9a323ba90b33daf83",
            "max": 1.9432363680045437,
            "min": 0,
            "orientation": "horizontal",
            "readout": true,
            "readout_format": ".2f",
            "step": 0.019432363680045438,
            "style": "IPY_MODEL_6e42265d8764441797ed7c8f3e8fbb04",
            "value": 0
          }
        },
        "248f35040bea43e799f848a5e666338c": {
          "model_module": "@jupyter-widgets/controls",
          "model_module_version": "1.5.0",
          "model_name": "VBoxModel",
          "state": {
            "_dom_classes": [
              "widget-interact"
            ],
            "_model_module": "@jupyter-widgets/controls",
            "_model_module_version": "1.5.0",
            "_model_name": "VBoxModel",
            "_view_count": null,
            "_view_module": "@jupyter-widgets/controls",
            "_view_module_version": "1.5.0",
            "_view_name": "VBoxView",
            "box_style": "",
            "children": [
              "IPY_MODEL_6f7f39b934294086be877592e2614157",
              "IPY_MODEL_dc53af7948dd488ca67d754085bde255"
            ],
            "layout": "IPY_MODEL_c5ec76dcdc174a57b8080018823e1909"
          }
        },
        "2a4389f56a4248f6a94bd70ed54a6ab1": {
          "model_module": "@jupyter-widgets/controls",
          "model_module_version": "1.5.0",
          "model_name": "SliderStyleModel",
          "state": {
            "_model_module": "@jupyter-widgets/controls",
            "_model_module_version": "1.5.0",
            "_model_name": "SliderStyleModel",
            "_view_count": null,
            "_view_module": "@jupyter-widgets/base",
            "_view_module_version": "1.2.0",
            "_view_name": "StyleView",
            "description_width": "",
            "handle_color": null
          }
        },
        "2a8cdfbcc20f451fa80b6c66021a4fa9": {
          "model_module": "@jupyter-widgets/controls",
          "model_module_version": "1.5.0",
          "model_name": "SliderStyleModel",
          "state": {
            "_model_module": "@jupyter-widgets/controls",
            "_model_module_version": "1.5.0",
            "_model_name": "SliderStyleModel",
            "_view_count": null,
            "_view_module": "@jupyter-widgets/base",
            "_view_module_version": "1.2.0",
            "_view_name": "StyleView",
            "description_width": "",
            "handle_color": null
          }
        },
        "2da5dac84ea4449f83b2fd8285d967b7": {
          "model_module": "@jupyter-widgets/base",
          "model_module_version": "1.2.0",
          "model_name": "LayoutModel",
          "state": {
            "_model_module": "@jupyter-widgets/base",
            "_model_module_version": "1.2.0",
            "_model_name": "LayoutModel",
            "_view_count": null,
            "_view_module": "@jupyter-widgets/base",
            "_view_module_version": "1.2.0",
            "_view_name": "LayoutView",
            "align_content": null,
            "align_items": null,
            "align_self": null,
            "border": null,
            "bottom": null,
            "display": null,
            "flex": null,
            "flex_flow": null,
            "grid_area": null,
            "grid_auto_columns": null,
            "grid_auto_flow": null,
            "grid_auto_rows": null,
            "grid_column": null,
            "grid_gap": null,
            "grid_row": null,
            "grid_template_areas": null,
            "grid_template_columns": null,
            "grid_template_rows": null,
            "height": null,
            "justify_content": null,
            "justify_items": null,
            "left": null,
            "margin": null,
            "max_height": null,
            "max_width": null,
            "min_height": null,
            "min_width": null,
            "object_fit": null,
            "object_position": null,
            "order": null,
            "overflow": null,
            "overflow_x": null,
            "overflow_y": null,
            "padding": null,
            "right": null,
            "top": null,
            "visibility": null,
            "width": null
          }
        },
        "2f7d93a01d234fe9a323ba90b33daf83": {
          "model_module": "@jupyter-widgets/base",
          "model_module_version": "1.2.0",
          "model_name": "LayoutModel",
          "state": {
            "_model_module": "@jupyter-widgets/base",
            "_model_module_version": "1.2.0",
            "_model_name": "LayoutModel",
            "_view_count": null,
            "_view_module": "@jupyter-widgets/base",
            "_view_module_version": "1.2.0",
            "_view_name": "LayoutView",
            "align_content": null,
            "align_items": null,
            "align_self": null,
            "border": null,
            "bottom": null,
            "display": null,
            "flex": null,
            "flex_flow": null,
            "grid_area": null,
            "grid_auto_columns": null,
            "grid_auto_flow": null,
            "grid_auto_rows": null,
            "grid_column": null,
            "grid_gap": null,
            "grid_row": null,
            "grid_template_areas": null,
            "grid_template_columns": null,
            "grid_template_rows": null,
            "height": null,
            "justify_content": null,
            "justify_items": null,
            "left": null,
            "margin": null,
            "max_height": null,
            "max_width": null,
            "min_height": null,
            "min_width": null,
            "object_fit": null,
            "object_position": null,
            "order": null,
            "overflow": null,
            "overflow_x": null,
            "overflow_y": null,
            "padding": null,
            "right": null,
            "top": null,
            "visibility": null,
            "width": null
          }
        },
        "2fe00250d17040c3a01849a76bc77f23": {
          "model_module": "@jupyter-widgets/controls",
          "model_module_version": "1.5.0",
          "model_name": "SliderStyleModel",
          "state": {
            "_model_module": "@jupyter-widgets/controls",
            "_model_module_version": "1.5.0",
            "_model_name": "SliderStyleModel",
            "_view_count": null,
            "_view_module": "@jupyter-widgets/base",
            "_view_module_version": "1.2.0",
            "_view_name": "StyleView",
            "description_width": "",
            "handle_color": null
          }
        },
        "3048b8745cf3440d92dc4e82f82c28fa": {
          "model_module": "@jupyter-widgets/base",
          "model_module_version": "1.2.0",
          "model_name": "LayoutModel",
          "state": {
            "_model_module": "@jupyter-widgets/base",
            "_model_module_version": "1.2.0",
            "_model_name": "LayoutModel",
            "_view_count": null,
            "_view_module": "@jupyter-widgets/base",
            "_view_module_version": "1.2.0",
            "_view_name": "LayoutView",
            "align_content": null,
            "align_items": null,
            "align_self": null,
            "border": null,
            "bottom": null,
            "display": null,
            "flex": null,
            "flex_flow": null,
            "grid_area": null,
            "grid_auto_columns": null,
            "grid_auto_flow": null,
            "grid_auto_rows": null,
            "grid_column": null,
            "grid_gap": null,
            "grid_row": null,
            "grid_template_areas": null,
            "grid_template_columns": null,
            "grid_template_rows": null,
            "height": null,
            "justify_content": null,
            "justify_items": null,
            "left": null,
            "margin": null,
            "max_height": null,
            "max_width": null,
            "min_height": null,
            "min_width": null,
            "object_fit": null,
            "object_position": null,
            "order": null,
            "overflow": null,
            "overflow_x": null,
            "overflow_y": null,
            "padding": null,
            "right": null,
            "top": null,
            "visibility": null,
            "width": null
          }
        },
        "3ab611657ce447bb8c3a0fe258db9ce1": {
          "model_module": "@jupyter-widgets/base",
          "model_module_version": "1.2.0",
          "model_name": "LayoutModel",
          "state": {
            "_model_module": "@jupyter-widgets/base",
            "_model_module_version": "1.2.0",
            "_model_name": "LayoutModel",
            "_view_count": null,
            "_view_module": "@jupyter-widgets/base",
            "_view_module_version": "1.2.0",
            "_view_name": "LayoutView",
            "align_content": null,
            "align_items": null,
            "align_self": null,
            "border": null,
            "bottom": null,
            "display": null,
            "flex": null,
            "flex_flow": null,
            "grid_area": null,
            "grid_auto_columns": null,
            "grid_auto_flow": null,
            "grid_auto_rows": null,
            "grid_column": null,
            "grid_gap": null,
            "grid_row": null,
            "grid_template_areas": null,
            "grid_template_columns": null,
            "grid_template_rows": null,
            "height": null,
            "justify_content": null,
            "justify_items": null,
            "left": null,
            "margin": null,
            "max_height": null,
            "max_width": null,
            "min_height": null,
            "min_width": null,
            "object_fit": null,
            "object_position": null,
            "order": null,
            "overflow": null,
            "overflow_x": null,
            "overflow_y": null,
            "padding": null,
            "right": null,
            "top": null,
            "visibility": null,
            "width": null
          }
        },
        "3e159c21337140b6a137c414ec0a22b1": {
          "model_module": "@jupyter-widgets/output",
          "model_module_version": "1.0.0",
          "model_name": "OutputModel",
          "state": {
            "_dom_classes": [],
            "_model_module": "@jupyter-widgets/output",
            "_model_module_version": "1.0.0",
            "_model_name": "OutputModel",
            "_view_count": null,
            "_view_module": "@jupyter-widgets/output",
            "_view_module_version": "1.0.0",
            "_view_name": "OutputView",
            "layout": "IPY_MODEL_7f58370d17914bd99add86244c2639d1",
            "msg_id": "",
            "outputs": []
          }
        },
        "41ccad541ad3415aa186ff09cf5f06b6": {
          "model_module": "@jupyter-widgets/output",
          "model_module_version": "1.0.0",
          "model_name": "OutputModel",
          "state": {
            "_dom_classes": [],
            "_model_module": "@jupyter-widgets/output",
            "_model_module_version": "1.0.0",
            "_model_name": "OutputModel",
            "_view_count": null,
            "_view_module": "@jupyter-widgets/output",
            "_view_module_version": "1.0.0",
            "_view_name": "OutputView",
            "layout": "IPY_MODEL_cc89a2f4a36c41a18091151606e6f575",
            "msg_id": "",
            "outputs": []
          }
        },
        "4614792c2e114e4d948985ed3c5383e8": {
          "model_module": "@jupyter-widgets/base",
          "model_module_version": "1.2.0",
          "model_name": "LayoutModel",
          "state": {
            "_model_module": "@jupyter-widgets/base",
            "_model_module_version": "1.2.0",
            "_model_name": "LayoutModel",
            "_view_count": null,
            "_view_module": "@jupyter-widgets/base",
            "_view_module_version": "1.2.0",
            "_view_name": "LayoutView",
            "align_content": null,
            "align_items": null,
            "align_self": null,
            "border": null,
            "bottom": null,
            "display": null,
            "flex": null,
            "flex_flow": null,
            "grid_area": null,
            "grid_auto_columns": null,
            "grid_auto_flow": null,
            "grid_auto_rows": null,
            "grid_column": null,
            "grid_gap": null,
            "grid_row": null,
            "grid_template_areas": null,
            "grid_template_columns": null,
            "grid_template_rows": null,
            "height": null,
            "justify_content": null,
            "justify_items": null,
            "left": null,
            "margin": null,
            "max_height": null,
            "max_width": null,
            "min_height": null,
            "min_width": null,
            "object_fit": null,
            "object_position": null,
            "order": null,
            "overflow": null,
            "overflow_x": null,
            "overflow_y": null,
            "padding": null,
            "right": null,
            "top": null,
            "visibility": null,
            "width": null
          }
        },
        "4e1dbdf6dceb467491212fb2980bdcb4": {
          "model_module": "@jupyter-widgets/output",
          "model_module_version": "1.0.0",
          "model_name": "OutputModel",
          "state": {
            "_dom_classes": [],
            "_model_module": "@jupyter-widgets/output",
            "_model_module_version": "1.0.0",
            "_model_name": "OutputModel",
            "_view_count": null,
            "_view_module": "@jupyter-widgets/output",
            "_view_module_version": "1.0.0",
            "_view_name": "OutputView",
            "layout": "IPY_MODEL_7b313f16d3904d429b349fe2faf87869",
            "msg_id": "",
            "outputs": []
          }
        },
        "56a70c2086544b88bd00f220cec36b81": {
          "model_module": "@jupyter-widgets/controls",
          "model_module_version": "1.5.0",
          "model_name": "VBoxModel",
          "state": {
            "_dom_classes": [
              "widget-interact"
            ],
            "_model_module": "@jupyter-widgets/controls",
            "_model_module_version": "1.5.0",
            "_model_name": "VBoxModel",
            "_view_count": null,
            "_view_module": "@jupyter-widgets/controls",
            "_view_module_version": "1.5.0",
            "_view_name": "VBoxView",
            "box_style": "",
            "children": [
              "IPY_MODEL_d82223d293a64dd6b01cd23bb7c969e3",
              "IPY_MODEL_db5c3c8c386743ea8ac2f355e709ad7e"
            ],
            "layout": "IPY_MODEL_85f91c10f4d44cba937c75a1f3f190a8"
          }
        },
        "59e99d89494045b4a439ae05dc4b6217": {
          "model_module": "@jupyter-widgets/controls",
          "model_module_version": "1.5.0",
          "model_name": "SliderStyleModel",
          "state": {
            "_model_module": "@jupyter-widgets/controls",
            "_model_module_version": "1.5.0",
            "_model_name": "SliderStyleModel",
            "_view_count": null,
            "_view_module": "@jupyter-widgets/base",
            "_view_module_version": "1.2.0",
            "_view_name": "StyleView",
            "description_width": "",
            "handle_color": null
          }
        },
        "5b812c6c3d304240a6f67b87d21d56fa": {
          "model_module": "@jupyter-widgets/base",
          "model_module_version": "1.2.0",
          "model_name": "LayoutModel",
          "state": {
            "_model_module": "@jupyter-widgets/base",
            "_model_module_version": "1.2.0",
            "_model_name": "LayoutModel",
            "_view_count": null,
            "_view_module": "@jupyter-widgets/base",
            "_view_module_version": "1.2.0",
            "_view_name": "LayoutView",
            "align_content": null,
            "align_items": null,
            "align_self": null,
            "border": null,
            "bottom": null,
            "display": null,
            "flex": null,
            "flex_flow": null,
            "grid_area": null,
            "grid_auto_columns": null,
            "grid_auto_flow": null,
            "grid_auto_rows": null,
            "grid_column": null,
            "grid_gap": null,
            "grid_row": null,
            "grid_template_areas": null,
            "grid_template_columns": null,
            "grid_template_rows": null,
            "height": null,
            "justify_content": null,
            "justify_items": null,
            "left": null,
            "margin": null,
            "max_height": null,
            "max_width": null,
            "min_height": null,
            "min_width": null,
            "object_fit": null,
            "object_position": null,
            "order": null,
            "overflow": null,
            "overflow_x": null,
            "overflow_y": null,
            "padding": null,
            "right": null,
            "top": null,
            "visibility": null,
            "width": null
          }
        },
        "5bd098f464654b90a4640e26833eb1a8": {
          "model_module": "@jupyter-widgets/base",
          "model_module_version": "1.2.0",
          "model_name": "LayoutModel",
          "state": {
            "_model_module": "@jupyter-widgets/base",
            "_model_module_version": "1.2.0",
            "_model_name": "LayoutModel",
            "_view_count": null,
            "_view_module": "@jupyter-widgets/base",
            "_view_module_version": "1.2.0",
            "_view_name": "LayoutView",
            "align_content": null,
            "align_items": null,
            "align_self": null,
            "border": null,
            "bottom": null,
            "display": null,
            "flex": null,
            "flex_flow": null,
            "grid_area": null,
            "grid_auto_columns": null,
            "grid_auto_flow": null,
            "grid_auto_rows": null,
            "grid_column": null,
            "grid_gap": null,
            "grid_row": null,
            "grid_template_areas": null,
            "grid_template_columns": null,
            "grid_template_rows": null,
            "height": null,
            "justify_content": null,
            "justify_items": null,
            "left": null,
            "margin": null,
            "max_height": null,
            "max_width": null,
            "min_height": null,
            "min_width": null,
            "object_fit": null,
            "object_position": null,
            "order": null,
            "overflow": null,
            "overflow_x": null,
            "overflow_y": null,
            "padding": null,
            "right": null,
            "top": null,
            "visibility": null,
            "width": null
          }
        },
        "5cc4ac69eaa7464a8079486c78f5b2f8": {
          "model_module": "@jupyter-widgets/base",
          "model_module_version": "1.2.0",
          "model_name": "LayoutModel",
          "state": {
            "_model_module": "@jupyter-widgets/base",
            "_model_module_version": "1.2.0",
            "_model_name": "LayoutModel",
            "_view_count": null,
            "_view_module": "@jupyter-widgets/base",
            "_view_module_version": "1.2.0",
            "_view_name": "LayoutView",
            "align_content": null,
            "align_items": null,
            "align_self": null,
            "border": null,
            "bottom": null,
            "display": null,
            "flex": null,
            "flex_flow": null,
            "grid_area": null,
            "grid_auto_columns": null,
            "grid_auto_flow": null,
            "grid_auto_rows": null,
            "grid_column": null,
            "grid_gap": null,
            "grid_row": null,
            "grid_template_areas": null,
            "grid_template_columns": null,
            "grid_template_rows": null,
            "height": null,
            "justify_content": null,
            "justify_items": null,
            "left": null,
            "margin": null,
            "max_height": null,
            "max_width": null,
            "min_height": null,
            "min_width": null,
            "object_fit": null,
            "object_position": null,
            "order": null,
            "overflow": null,
            "overflow_x": null,
            "overflow_y": null,
            "padding": null,
            "right": null,
            "top": null,
            "visibility": null,
            "width": null
          }
        },
        "608da45b9f34444997291b0f17ce8dab": {
          "model_module": "@jupyter-widgets/base",
          "model_module_version": "1.2.0",
          "model_name": "LayoutModel",
          "state": {
            "_model_module": "@jupyter-widgets/base",
            "_model_module_version": "1.2.0",
            "_model_name": "LayoutModel",
            "_view_count": null,
            "_view_module": "@jupyter-widgets/base",
            "_view_module_version": "1.2.0",
            "_view_name": "LayoutView",
            "align_content": null,
            "align_items": null,
            "align_self": null,
            "border": null,
            "bottom": null,
            "display": null,
            "flex": null,
            "flex_flow": null,
            "grid_area": null,
            "grid_auto_columns": null,
            "grid_auto_flow": null,
            "grid_auto_rows": null,
            "grid_column": null,
            "grid_gap": null,
            "grid_row": null,
            "grid_template_areas": null,
            "grid_template_columns": null,
            "grid_template_rows": null,
            "height": null,
            "justify_content": null,
            "justify_items": null,
            "left": null,
            "margin": null,
            "max_height": null,
            "max_width": null,
            "min_height": null,
            "min_width": null,
            "object_fit": null,
            "object_position": null,
            "order": null,
            "overflow": null,
            "overflow_x": null,
            "overflow_y": null,
            "padding": null,
            "right": null,
            "top": null,
            "visibility": null,
            "width": null
          }
        },
        "65f198fa66394445ac91f85e19d3a96a": {
          "model_module": "@jupyter-widgets/controls",
          "model_module_version": "1.5.0",
          "model_name": "SliderStyleModel",
          "state": {
            "_model_module": "@jupyter-widgets/controls",
            "_model_module_version": "1.5.0",
            "_model_name": "SliderStyleModel",
            "_view_count": null,
            "_view_module": "@jupyter-widgets/base",
            "_view_module_version": "1.2.0",
            "_view_name": "StyleView",
            "description_width": "",
            "handle_color": null
          }
        },
        "668a8d7fc31343efb54d3074ca402917": {
          "model_module": "@jupyter-widgets/controls",
          "model_module_version": "1.5.0",
          "model_name": "SliderStyleModel",
          "state": {
            "_model_module": "@jupyter-widgets/controls",
            "_model_module_version": "1.5.0",
            "_model_name": "SliderStyleModel",
            "_view_count": null,
            "_view_module": "@jupyter-widgets/base",
            "_view_module_version": "1.2.0",
            "_view_name": "StyleView",
            "description_width": "",
            "handle_color": null
          }
        },
        "6782573698d148d79af9c9fdd5614ffb": {
          "model_module": "@jupyter-widgets/output",
          "model_module_version": "1.0.0",
          "model_name": "OutputModel",
          "state": {
            "_dom_classes": [],
            "_model_module": "@jupyter-widgets/output",
            "_model_module_version": "1.0.0",
            "_model_name": "OutputModel",
            "_view_count": null,
            "_view_module": "@jupyter-widgets/output",
            "_view_module_version": "1.0.0",
            "_view_name": "OutputView",
            "layout": "IPY_MODEL_0db87e2e33ef4713944593bdb98c2597",
            "msg_id": "",
            "outputs": []
          }
        },
        "68c6429f64014c4c8ec398524ee57cbf": {
          "model_module": "@jupyter-widgets/output",
          "model_module_version": "1.0.0",
          "model_name": "OutputModel",
          "state": {
            "_dom_classes": [],
            "_model_module": "@jupyter-widgets/output",
            "_model_module_version": "1.0.0",
            "_model_name": "OutputModel",
            "_view_count": null,
            "_view_module": "@jupyter-widgets/output",
            "_view_module_version": "1.0.0",
            "_view_name": "OutputView",
            "layout": "IPY_MODEL_8d99471ce86c4cc188ded609d0f5cd60",
            "msg_id": "",
            "outputs": []
          }
        },
        "6e42265d8764441797ed7c8f3e8fbb04": {
          "model_module": "@jupyter-widgets/controls",
          "model_module_version": "1.5.0",
          "model_name": "SliderStyleModel",
          "state": {
            "_model_module": "@jupyter-widgets/controls",
            "_model_module_version": "1.5.0",
            "_model_name": "SliderStyleModel",
            "_view_count": null,
            "_view_module": "@jupyter-widgets/base",
            "_view_module_version": "1.2.0",
            "_view_name": "StyleView",
            "description_width": "",
            "handle_color": null
          }
        },
        "6f7f39b934294086be877592e2614157": {
          "model_module": "@jupyter-widgets/controls",
          "model_module_version": "1.5.0",
          "model_name": "FloatSliderModel",
          "state": {
            "_dom_classes": [],
            "_model_module": "@jupyter-widgets/controls",
            "_model_module_version": "1.5.0",
            "_model_name": "FloatSliderModel",
            "_view_count": null,
            "_view_module": "@jupyter-widgets/controls",
            "_view_module_version": "1.5.0",
            "_view_name": "FloatSliderView",
            "continuous_update": true,
            "description": "t",
            "description_tooltip": null,
            "disabled": false,
            "layout": "IPY_MODEL_5b812c6c3d304240a6f67b87d21d56fa",
            "max": 1.387742659376497,
            "min": 0.9877426593767745,
            "orientation": "horizontal",
            "readout": true,
            "readout_format": ".2f",
            "step": 0.01387742659376497,
            "style": "IPY_MODEL_59e99d89494045b4a439ae05dc4b6217",
            "value": 0.9877426593767745
          }
        },
        "713a5666fc1148f5bf0201a3e1dda5bb": {
          "model_module": "@jupyter-widgets/controls",
          "model_module_version": "1.5.0",
          "model_name": "FloatSliderModel",
          "state": {
            "_dom_classes": [],
            "_model_module": "@jupyter-widgets/controls",
            "_model_module_version": "1.5.0",
            "_model_name": "FloatSliderModel",
            "_view_count": null,
            "_view_module": "@jupyter-widgets/controls",
            "_view_module_version": "1.5.0",
            "_view_name": "FloatSliderView",
            "continuous_update": true,
            "description": "t",
            "description_tooltip": null,
            "disabled": false,
            "layout": "IPY_MODEL_c852383367ca435ca48188107588cee2",
            "max": 4.036048542642362,
            "min": 0,
            "orientation": "horizontal",
            "readout": true,
            "readout_format": ".2f",
            "step": 0.04036048542642362,
            "style": "IPY_MODEL_9d05f8550a94491d850fcb328173e3cc",
            "value": 0
          }
        },
        "776708202c8a485cbb7242585ac66651": {
          "model_module": "@jupyter-widgets/controls",
          "model_module_version": "1.5.0",
          "model_name": "VBoxModel",
          "state": {
            "_dom_classes": [
              "widget-interact"
            ],
            "_model_module": "@jupyter-widgets/controls",
            "_model_module_version": "1.5.0",
            "_model_name": "VBoxModel",
            "_view_count": null,
            "_view_module": "@jupyter-widgets/controls",
            "_view_module_version": "1.5.0",
            "_view_name": "VBoxView",
            "box_style": "",
            "children": [
              "IPY_MODEL_235ad2863b274c05b6d70d7aaf89b865",
              "IPY_MODEL_87eac75cb3684f6aba47eb943b021d28"
            ],
            "layout": "IPY_MODEL_cc95ea4488d0412e81b4129f28b53731"
          }
        },
        "7b313f16d3904d429b349fe2faf87869": {
          "model_module": "@jupyter-widgets/base",
          "model_module_version": "1.2.0",
          "model_name": "LayoutModel",
          "state": {
            "_model_module": "@jupyter-widgets/base",
            "_model_module_version": "1.2.0",
            "_model_name": "LayoutModel",
            "_view_count": null,
            "_view_module": "@jupyter-widgets/base",
            "_view_module_version": "1.2.0",
            "_view_name": "LayoutView",
            "align_content": null,
            "align_items": null,
            "align_self": null,
            "border": null,
            "bottom": null,
            "display": null,
            "flex": null,
            "flex_flow": null,
            "grid_area": null,
            "grid_auto_columns": null,
            "grid_auto_flow": null,
            "grid_auto_rows": null,
            "grid_column": null,
            "grid_gap": null,
            "grid_row": null,
            "grid_template_areas": null,
            "grid_template_columns": null,
            "grid_template_rows": null,
            "height": null,
            "justify_content": null,
            "justify_items": null,
            "left": null,
            "margin": null,
            "max_height": null,
            "max_width": null,
            "min_height": null,
            "min_width": null,
            "object_fit": null,
            "object_position": null,
            "order": null,
            "overflow": null,
            "overflow_x": null,
            "overflow_y": null,
            "padding": null,
            "right": null,
            "top": null,
            "visibility": null,
            "width": null
          }
        },
        "7f58370d17914bd99add86244c2639d1": {
          "model_module": "@jupyter-widgets/base",
          "model_module_version": "1.2.0",
          "model_name": "LayoutModel",
          "state": {
            "_model_module": "@jupyter-widgets/base",
            "_model_module_version": "1.2.0",
            "_model_name": "LayoutModel",
            "_view_count": null,
            "_view_module": "@jupyter-widgets/base",
            "_view_module_version": "1.2.0",
            "_view_name": "LayoutView",
            "align_content": null,
            "align_items": null,
            "align_self": null,
            "border": null,
            "bottom": null,
            "display": null,
            "flex": null,
            "flex_flow": null,
            "grid_area": null,
            "grid_auto_columns": null,
            "grid_auto_flow": null,
            "grid_auto_rows": null,
            "grid_column": null,
            "grid_gap": null,
            "grid_row": null,
            "grid_template_areas": null,
            "grid_template_columns": null,
            "grid_template_rows": null,
            "height": null,
            "justify_content": null,
            "justify_items": null,
            "left": null,
            "margin": null,
            "max_height": null,
            "max_width": null,
            "min_height": null,
            "min_width": null,
            "object_fit": null,
            "object_position": null,
            "order": null,
            "overflow": null,
            "overflow_x": null,
            "overflow_y": null,
            "padding": null,
            "right": null,
            "top": null,
            "visibility": null,
            "width": null
          }
        },
        "85f91c10f4d44cba937c75a1f3f190a8": {
          "model_module": "@jupyter-widgets/base",
          "model_module_version": "1.2.0",
          "model_name": "LayoutModel",
          "state": {
            "_model_module": "@jupyter-widgets/base",
            "_model_module_version": "1.2.0",
            "_model_name": "LayoutModel",
            "_view_count": null,
            "_view_module": "@jupyter-widgets/base",
            "_view_module_version": "1.2.0",
            "_view_name": "LayoutView",
            "align_content": null,
            "align_items": null,
            "align_self": null,
            "border": null,
            "bottom": null,
            "display": null,
            "flex": null,
            "flex_flow": null,
            "grid_area": null,
            "grid_auto_columns": null,
            "grid_auto_flow": null,
            "grid_auto_rows": null,
            "grid_column": null,
            "grid_gap": null,
            "grid_row": null,
            "grid_template_areas": null,
            "grid_template_columns": null,
            "grid_template_rows": null,
            "height": null,
            "justify_content": null,
            "justify_items": null,
            "left": null,
            "margin": null,
            "max_height": null,
            "max_width": null,
            "min_height": null,
            "min_width": null,
            "object_fit": null,
            "object_position": null,
            "order": null,
            "overflow": null,
            "overflow_x": null,
            "overflow_y": null,
            "padding": null,
            "right": null,
            "top": null,
            "visibility": null,
            "width": null
          }
        },
        "8792f3eef24d4555b6caf9551ad2cd30": {
          "model_module": "@jupyter-widgets/controls",
          "model_module_version": "1.5.0",
          "model_name": "SliderStyleModel",
          "state": {
            "_model_module": "@jupyter-widgets/controls",
            "_model_module_version": "1.5.0",
            "_model_name": "SliderStyleModel",
            "_view_count": null,
            "_view_module": "@jupyter-widgets/base",
            "_view_module_version": "1.2.0",
            "_view_name": "StyleView",
            "description_width": "",
            "handle_color": null
          }
        },
        "87eac75cb3684f6aba47eb943b021d28": {
          "model_module": "@jupyter-widgets/output",
          "model_module_version": "1.0.0",
          "model_name": "OutputModel",
          "state": {
            "_dom_classes": [],
            "_model_module": "@jupyter-widgets/output",
            "_model_module_version": "1.0.0",
            "_model_name": "OutputModel",
            "_view_count": null,
            "_view_module": "@jupyter-widgets/output",
            "_view_module_version": "1.0.0",
            "_view_name": "OutputView",
            "layout": "IPY_MODEL_3ab611657ce447bb8c3a0fe258db9ce1",
            "msg_id": "",
            "outputs": []
          }
        },
        "8c62b5ffe16745309db0d0dc93ffe255": {
          "model_module": "@jupyter-widgets/base",
          "model_module_version": "1.2.0",
          "model_name": "LayoutModel",
          "state": {
            "_model_module": "@jupyter-widgets/base",
            "_model_module_version": "1.2.0",
            "_model_name": "LayoutModel",
            "_view_count": null,
            "_view_module": "@jupyter-widgets/base",
            "_view_module_version": "1.2.0",
            "_view_name": "LayoutView",
            "align_content": null,
            "align_items": null,
            "align_self": null,
            "border": null,
            "bottom": null,
            "display": null,
            "flex": null,
            "flex_flow": null,
            "grid_area": null,
            "grid_auto_columns": null,
            "grid_auto_flow": null,
            "grid_auto_rows": null,
            "grid_column": null,
            "grid_gap": null,
            "grid_row": null,
            "grid_template_areas": null,
            "grid_template_columns": null,
            "grid_template_rows": null,
            "height": null,
            "justify_content": null,
            "justify_items": null,
            "left": null,
            "margin": null,
            "max_height": null,
            "max_width": null,
            "min_height": null,
            "min_width": null,
            "object_fit": null,
            "object_position": null,
            "order": null,
            "overflow": null,
            "overflow_x": null,
            "overflow_y": null,
            "padding": null,
            "right": null,
            "top": null,
            "visibility": null,
            "width": null
          }
        },
        "8d99471ce86c4cc188ded609d0f5cd60": {
          "model_module": "@jupyter-widgets/base",
          "model_module_version": "1.2.0",
          "model_name": "LayoutModel",
          "state": {
            "_model_module": "@jupyter-widgets/base",
            "_model_module_version": "1.2.0",
            "_model_name": "LayoutModel",
            "_view_count": null,
            "_view_module": "@jupyter-widgets/base",
            "_view_module_version": "1.2.0",
            "_view_name": "LayoutView",
            "align_content": null,
            "align_items": null,
            "align_self": null,
            "border": null,
            "bottom": null,
            "display": null,
            "flex": null,
            "flex_flow": null,
            "grid_area": null,
            "grid_auto_columns": null,
            "grid_auto_flow": null,
            "grid_auto_rows": null,
            "grid_column": null,
            "grid_gap": null,
            "grid_row": null,
            "grid_template_areas": null,
            "grid_template_columns": null,
            "grid_template_rows": null,
            "height": null,
            "justify_content": null,
            "justify_items": null,
            "left": null,
            "margin": null,
            "max_height": null,
            "max_width": null,
            "min_height": null,
            "min_width": null,
            "object_fit": null,
            "object_position": null,
            "order": null,
            "overflow": null,
            "overflow_x": null,
            "overflow_y": null,
            "padding": null,
            "right": null,
            "top": null,
            "visibility": null,
            "width": null
          }
        },
        "91deb7cd9309452e8b44cb8fa831781a": {
          "model_module": "@jupyter-widgets/output",
          "model_module_version": "1.0.0",
          "model_name": "OutputModel",
          "state": {
            "_dom_classes": [],
            "_model_module": "@jupyter-widgets/output",
            "_model_module_version": "1.0.0",
            "_model_name": "OutputModel",
            "_view_count": null,
            "_view_module": "@jupyter-widgets/output",
            "_view_module_version": "1.0.0",
            "_view_name": "OutputView",
            "layout": "IPY_MODEL_608da45b9f34444997291b0f17ce8dab",
            "msg_id": "",
            "outputs": []
          }
        },
        "922bcc450faa430896e6d7be4ea61ca4": {
          "model_module": "@jupyter-widgets/base",
          "model_module_version": "1.2.0",
          "model_name": "LayoutModel",
          "state": {
            "_model_module": "@jupyter-widgets/base",
            "_model_module_version": "1.2.0",
            "_model_name": "LayoutModel",
            "_view_count": null,
            "_view_module": "@jupyter-widgets/base",
            "_view_module_version": "1.2.0",
            "_view_name": "LayoutView",
            "align_content": null,
            "align_items": null,
            "align_self": null,
            "border": null,
            "bottom": null,
            "display": null,
            "flex": null,
            "flex_flow": null,
            "grid_area": null,
            "grid_auto_columns": null,
            "grid_auto_flow": null,
            "grid_auto_rows": null,
            "grid_column": null,
            "grid_gap": null,
            "grid_row": null,
            "grid_template_areas": null,
            "grid_template_columns": null,
            "grid_template_rows": null,
            "height": null,
            "justify_content": null,
            "justify_items": null,
            "left": null,
            "margin": null,
            "max_height": null,
            "max_width": null,
            "min_height": null,
            "min_width": null,
            "object_fit": null,
            "object_position": null,
            "order": null,
            "overflow": null,
            "overflow_x": null,
            "overflow_y": null,
            "padding": null,
            "right": null,
            "top": null,
            "visibility": null,
            "width": null
          }
        },
        "94da1d5f28054e21b3140758bc91be92": {
          "model_module": "@jupyter-widgets/base",
          "model_module_version": "1.2.0",
          "model_name": "LayoutModel",
          "state": {
            "_model_module": "@jupyter-widgets/base",
            "_model_module_version": "1.2.0",
            "_model_name": "LayoutModel",
            "_view_count": null,
            "_view_module": "@jupyter-widgets/base",
            "_view_module_version": "1.2.0",
            "_view_name": "LayoutView",
            "align_content": null,
            "align_items": null,
            "align_self": null,
            "border": null,
            "bottom": null,
            "display": null,
            "flex": null,
            "flex_flow": null,
            "grid_area": null,
            "grid_auto_columns": null,
            "grid_auto_flow": null,
            "grid_auto_rows": null,
            "grid_column": null,
            "grid_gap": null,
            "grid_row": null,
            "grid_template_areas": null,
            "grid_template_columns": null,
            "grid_template_rows": null,
            "height": null,
            "justify_content": null,
            "justify_items": null,
            "left": null,
            "margin": null,
            "max_height": null,
            "max_width": null,
            "min_height": null,
            "min_width": null,
            "object_fit": null,
            "object_position": null,
            "order": null,
            "overflow": null,
            "overflow_x": null,
            "overflow_y": null,
            "padding": null,
            "right": null,
            "top": null,
            "visibility": null,
            "width": null
          }
        },
        "9d05f8550a94491d850fcb328173e3cc": {
          "model_module": "@jupyter-widgets/controls",
          "model_module_version": "1.5.0",
          "model_name": "SliderStyleModel",
          "state": {
            "_model_module": "@jupyter-widgets/controls",
            "_model_module_version": "1.5.0",
            "_model_name": "SliderStyleModel",
            "_view_count": null,
            "_view_module": "@jupyter-widgets/base",
            "_view_module_version": "1.2.0",
            "_view_name": "StyleView",
            "description_width": "",
            "handle_color": null
          }
        },
        "9d5ba547fa3d490bba7284b83eba4551": {
          "model_module": "@jupyter-widgets/base",
          "model_module_version": "1.2.0",
          "model_name": "LayoutModel",
          "state": {
            "_model_module": "@jupyter-widgets/base",
            "_model_module_version": "1.2.0",
            "_model_name": "LayoutModel",
            "_view_count": null,
            "_view_module": "@jupyter-widgets/base",
            "_view_module_version": "1.2.0",
            "_view_name": "LayoutView",
            "align_content": null,
            "align_items": null,
            "align_self": null,
            "border": null,
            "bottom": null,
            "display": null,
            "flex": null,
            "flex_flow": null,
            "grid_area": null,
            "grid_auto_columns": null,
            "grid_auto_flow": null,
            "grid_auto_rows": null,
            "grid_column": null,
            "grid_gap": null,
            "grid_row": null,
            "grid_template_areas": null,
            "grid_template_columns": null,
            "grid_template_rows": null,
            "height": null,
            "justify_content": null,
            "justify_items": null,
            "left": null,
            "margin": null,
            "max_height": null,
            "max_width": null,
            "min_height": null,
            "min_width": null,
            "object_fit": null,
            "object_position": null,
            "order": null,
            "overflow": null,
            "overflow_x": null,
            "overflow_y": null,
            "padding": null,
            "right": null,
            "top": null,
            "visibility": null,
            "width": null
          }
        },
        "a35eeedeb13e4918962c676760746da5": {
          "model_module": "@jupyter-widgets/base",
          "model_module_version": "1.2.0",
          "model_name": "LayoutModel",
          "state": {
            "_model_module": "@jupyter-widgets/base",
            "_model_module_version": "1.2.0",
            "_model_name": "LayoutModel",
            "_view_count": null,
            "_view_module": "@jupyter-widgets/base",
            "_view_module_version": "1.2.0",
            "_view_name": "LayoutView",
            "align_content": null,
            "align_items": null,
            "align_self": null,
            "border": null,
            "bottom": null,
            "display": null,
            "flex": null,
            "flex_flow": null,
            "grid_area": null,
            "grid_auto_columns": null,
            "grid_auto_flow": null,
            "grid_auto_rows": null,
            "grid_column": null,
            "grid_gap": null,
            "grid_row": null,
            "grid_template_areas": null,
            "grid_template_columns": null,
            "grid_template_rows": null,
            "height": null,
            "justify_content": null,
            "justify_items": null,
            "left": null,
            "margin": null,
            "max_height": null,
            "max_width": null,
            "min_height": null,
            "min_width": null,
            "object_fit": null,
            "object_position": null,
            "order": null,
            "overflow": null,
            "overflow_x": null,
            "overflow_y": null,
            "padding": null,
            "right": null,
            "top": null,
            "visibility": null,
            "width": null
          }
        },
        "a4bb5b6b08944c71b486e4c010587bf4": {
          "model_module": "@jupyter-widgets/base",
          "model_module_version": "1.2.0",
          "model_name": "LayoutModel",
          "state": {
            "_model_module": "@jupyter-widgets/base",
            "_model_module_version": "1.2.0",
            "_model_name": "LayoutModel",
            "_view_count": null,
            "_view_module": "@jupyter-widgets/base",
            "_view_module_version": "1.2.0",
            "_view_name": "LayoutView",
            "align_content": null,
            "align_items": null,
            "align_self": null,
            "border": null,
            "bottom": null,
            "display": null,
            "flex": null,
            "flex_flow": null,
            "grid_area": null,
            "grid_auto_columns": null,
            "grid_auto_flow": null,
            "grid_auto_rows": null,
            "grid_column": null,
            "grid_gap": null,
            "grid_row": null,
            "grid_template_areas": null,
            "grid_template_columns": null,
            "grid_template_rows": null,
            "height": null,
            "justify_content": null,
            "justify_items": null,
            "left": null,
            "margin": null,
            "max_height": null,
            "max_width": null,
            "min_height": null,
            "min_width": null,
            "object_fit": null,
            "object_position": null,
            "order": null,
            "overflow": null,
            "overflow_x": null,
            "overflow_y": null,
            "padding": null,
            "right": null,
            "top": null,
            "visibility": null,
            "width": null
          }
        },
        "a7d6f88cebc84dce9c8c8d11d8216b83": {
          "model_module": "@jupyter-widgets/controls",
          "model_module_version": "1.5.0",
          "model_name": "VBoxModel",
          "state": {
            "_dom_classes": [
              "widget-interact"
            ],
            "_model_module": "@jupyter-widgets/controls",
            "_model_module_version": "1.5.0",
            "_model_name": "VBoxModel",
            "_view_count": null,
            "_view_module": "@jupyter-widgets/controls",
            "_view_module_version": "1.5.0",
            "_view_name": "VBoxView",
            "box_style": "",
            "children": [
              "IPY_MODEL_e9a10dc5827b46db975ceed39cc89bf9",
              "IPY_MODEL_68c6429f64014c4c8ec398524ee57cbf"
            ],
            "layout": "IPY_MODEL_bbef7d3bab384528a57b21eaf757c74d"
          }
        },
        "a99c0ce526944b0896adcaf4ac75e36b": {
          "model_module": "@jupyter-widgets/controls",
          "model_module_version": "1.5.0",
          "model_name": "FloatSliderModel",
          "state": {
            "_dom_classes": [],
            "_model_module": "@jupyter-widgets/controls",
            "_model_module_version": "1.5.0",
            "_model_name": "FloatSliderModel",
            "_view_count": null,
            "_view_module": "@jupyter-widgets/controls",
            "_view_module_version": "1.5.0",
            "_view_name": "FloatSliderView",
            "continuous_update": true,
            "description": "t",
            "description_tooltip": null,
            "disabled": false,
            "layout": "IPY_MODEL_a4bb5b6b08944c71b486e4c010587bf4",
            "max": 3.791244529553666,
            "min": 0,
            "orientation": "horizontal",
            "readout": true,
            "readout_format": ".2f",
            "step": 0.03791244529553666,
            "style": "IPY_MODEL_2fe00250d17040c3a01849a76bc77f23",
            "value": 0
          }
        },
        "aca2dfc5867049a59625d5e50451f4ef": {
          "model_module": "@jupyter-widgets/base",
          "model_module_version": "1.2.0",
          "model_name": "LayoutModel",
          "state": {
            "_model_module": "@jupyter-widgets/base",
            "_model_module_version": "1.2.0",
            "_model_name": "LayoutModel",
            "_view_count": null,
            "_view_module": "@jupyter-widgets/base",
            "_view_module_version": "1.2.0",
            "_view_name": "LayoutView",
            "align_content": null,
            "align_items": null,
            "align_self": null,
            "border": null,
            "bottom": null,
            "display": null,
            "flex": null,
            "flex_flow": null,
            "grid_area": null,
            "grid_auto_columns": null,
            "grid_auto_flow": null,
            "grid_auto_rows": null,
            "grid_column": null,
            "grid_gap": null,
            "grid_row": null,
            "grid_template_areas": null,
            "grid_template_columns": null,
            "grid_template_rows": null,
            "height": null,
            "justify_content": null,
            "justify_items": null,
            "left": null,
            "margin": null,
            "max_height": null,
            "max_width": null,
            "min_height": null,
            "min_width": null,
            "object_fit": null,
            "object_position": null,
            "order": null,
            "overflow": null,
            "overflow_x": null,
            "overflow_y": null,
            "padding": null,
            "right": null,
            "top": null,
            "visibility": null,
            "width": null
          }
        },
        "bbef7d3bab384528a57b21eaf757c74d": {
          "model_module": "@jupyter-widgets/base",
          "model_module_version": "1.2.0",
          "model_name": "LayoutModel",
          "state": {
            "_model_module": "@jupyter-widgets/base",
            "_model_module_version": "1.2.0",
            "_model_name": "LayoutModel",
            "_view_count": null,
            "_view_module": "@jupyter-widgets/base",
            "_view_module_version": "1.2.0",
            "_view_name": "LayoutView",
            "align_content": null,
            "align_items": null,
            "align_self": null,
            "border": null,
            "bottom": null,
            "display": null,
            "flex": null,
            "flex_flow": null,
            "grid_area": null,
            "grid_auto_columns": null,
            "grid_auto_flow": null,
            "grid_auto_rows": null,
            "grid_column": null,
            "grid_gap": null,
            "grid_row": null,
            "grid_template_areas": null,
            "grid_template_columns": null,
            "grid_template_rows": null,
            "height": null,
            "justify_content": null,
            "justify_items": null,
            "left": null,
            "margin": null,
            "max_height": null,
            "max_width": null,
            "min_height": null,
            "min_width": null,
            "object_fit": null,
            "object_position": null,
            "order": null,
            "overflow": null,
            "overflow_x": null,
            "overflow_y": null,
            "padding": null,
            "right": null,
            "top": null,
            "visibility": null,
            "width": null
          }
        },
        "c5ec76dcdc174a57b8080018823e1909": {
          "model_module": "@jupyter-widgets/base",
          "model_module_version": "1.2.0",
          "model_name": "LayoutModel",
          "state": {
            "_model_module": "@jupyter-widgets/base",
            "_model_module_version": "1.2.0",
            "_model_name": "LayoutModel",
            "_view_count": null,
            "_view_module": "@jupyter-widgets/base",
            "_view_module_version": "1.2.0",
            "_view_name": "LayoutView",
            "align_content": null,
            "align_items": null,
            "align_self": null,
            "border": null,
            "bottom": null,
            "display": null,
            "flex": null,
            "flex_flow": null,
            "grid_area": null,
            "grid_auto_columns": null,
            "grid_auto_flow": null,
            "grid_auto_rows": null,
            "grid_column": null,
            "grid_gap": null,
            "grid_row": null,
            "grid_template_areas": null,
            "grid_template_columns": null,
            "grid_template_rows": null,
            "height": null,
            "justify_content": null,
            "justify_items": null,
            "left": null,
            "margin": null,
            "max_height": null,
            "max_width": null,
            "min_height": null,
            "min_width": null,
            "object_fit": null,
            "object_position": null,
            "order": null,
            "overflow": null,
            "overflow_x": null,
            "overflow_y": null,
            "padding": null,
            "right": null,
            "top": null,
            "visibility": null,
            "width": null
          }
        },
        "c852383367ca435ca48188107588cee2": {
          "model_module": "@jupyter-widgets/base",
          "model_module_version": "1.2.0",
          "model_name": "LayoutModel",
          "state": {
            "_model_module": "@jupyter-widgets/base",
            "_model_module_version": "1.2.0",
            "_model_name": "LayoutModel",
            "_view_count": null,
            "_view_module": "@jupyter-widgets/base",
            "_view_module_version": "1.2.0",
            "_view_name": "LayoutView",
            "align_content": null,
            "align_items": null,
            "align_self": null,
            "border": null,
            "bottom": null,
            "display": null,
            "flex": null,
            "flex_flow": null,
            "grid_area": null,
            "grid_auto_columns": null,
            "grid_auto_flow": null,
            "grid_auto_rows": null,
            "grid_column": null,
            "grid_gap": null,
            "grid_row": null,
            "grid_template_areas": null,
            "grid_template_columns": null,
            "grid_template_rows": null,
            "height": null,
            "justify_content": null,
            "justify_items": null,
            "left": null,
            "margin": null,
            "max_height": null,
            "max_width": null,
            "min_height": null,
            "min_width": null,
            "object_fit": null,
            "object_position": null,
            "order": null,
            "overflow": null,
            "overflow_x": null,
            "overflow_y": null,
            "padding": null,
            "right": null,
            "top": null,
            "visibility": null,
            "width": null
          }
        },
        "ca038cc44f554d589a8177a7ca235c80": {
          "model_module": "@jupyter-widgets/base",
          "model_module_version": "1.2.0",
          "model_name": "LayoutModel",
          "state": {
            "_model_module": "@jupyter-widgets/base",
            "_model_module_version": "1.2.0",
            "_model_name": "LayoutModel",
            "_view_count": null,
            "_view_module": "@jupyter-widgets/base",
            "_view_module_version": "1.2.0",
            "_view_name": "LayoutView",
            "align_content": null,
            "align_items": null,
            "align_self": null,
            "border": null,
            "bottom": null,
            "display": null,
            "flex": null,
            "flex_flow": null,
            "grid_area": null,
            "grid_auto_columns": null,
            "grid_auto_flow": null,
            "grid_auto_rows": null,
            "grid_column": null,
            "grid_gap": null,
            "grid_row": null,
            "grid_template_areas": null,
            "grid_template_columns": null,
            "grid_template_rows": null,
            "height": null,
            "justify_content": null,
            "justify_items": null,
            "left": null,
            "margin": null,
            "max_height": null,
            "max_width": null,
            "min_height": null,
            "min_width": null,
            "object_fit": null,
            "object_position": null,
            "order": null,
            "overflow": null,
            "overflow_x": null,
            "overflow_y": null,
            "padding": null,
            "right": null,
            "top": null,
            "visibility": null,
            "width": null
          }
        },
        "cba9675c0f304501a1cb7f86e4c1b832": {
          "model_module": "@jupyter-widgets/output",
          "model_module_version": "1.0.0",
          "model_name": "OutputModel",
          "state": {
            "_dom_classes": [],
            "_model_module": "@jupyter-widgets/output",
            "_model_module_version": "1.0.0",
            "_model_name": "OutputModel",
            "_view_count": null,
            "_view_module": "@jupyter-widgets/output",
            "_view_module_version": "1.0.0",
            "_view_name": "OutputView",
            "layout": "IPY_MODEL_9d5ba547fa3d490bba7284b83eba4551",
            "msg_id": "",
            "outputs": []
          }
        },
        "cc89a2f4a36c41a18091151606e6f575": {
          "model_module": "@jupyter-widgets/base",
          "model_module_version": "1.2.0",
          "model_name": "LayoutModel",
          "state": {
            "_model_module": "@jupyter-widgets/base",
            "_model_module_version": "1.2.0",
            "_model_name": "LayoutModel",
            "_view_count": null,
            "_view_module": "@jupyter-widgets/base",
            "_view_module_version": "1.2.0",
            "_view_name": "LayoutView",
            "align_content": null,
            "align_items": null,
            "align_self": null,
            "border": null,
            "bottom": null,
            "display": null,
            "flex": null,
            "flex_flow": null,
            "grid_area": null,
            "grid_auto_columns": null,
            "grid_auto_flow": null,
            "grid_auto_rows": null,
            "grid_column": null,
            "grid_gap": null,
            "grid_row": null,
            "grid_template_areas": null,
            "grid_template_columns": null,
            "grid_template_rows": null,
            "height": null,
            "justify_content": null,
            "justify_items": null,
            "left": null,
            "margin": null,
            "max_height": null,
            "max_width": null,
            "min_height": null,
            "min_width": null,
            "object_fit": null,
            "object_position": null,
            "order": null,
            "overflow": null,
            "overflow_x": null,
            "overflow_y": null,
            "padding": null,
            "right": null,
            "top": null,
            "visibility": null,
            "width": null
          }
        },
        "cc95ea4488d0412e81b4129f28b53731": {
          "model_module": "@jupyter-widgets/base",
          "model_module_version": "1.2.0",
          "model_name": "LayoutModel",
          "state": {
            "_model_module": "@jupyter-widgets/base",
            "_model_module_version": "1.2.0",
            "_model_name": "LayoutModel",
            "_view_count": null,
            "_view_module": "@jupyter-widgets/base",
            "_view_module_version": "1.2.0",
            "_view_name": "LayoutView",
            "align_content": null,
            "align_items": null,
            "align_self": null,
            "border": null,
            "bottom": null,
            "display": null,
            "flex": null,
            "flex_flow": null,
            "grid_area": null,
            "grid_auto_columns": null,
            "grid_auto_flow": null,
            "grid_auto_rows": null,
            "grid_column": null,
            "grid_gap": null,
            "grid_row": null,
            "grid_template_areas": null,
            "grid_template_columns": null,
            "grid_template_rows": null,
            "height": null,
            "justify_content": null,
            "justify_items": null,
            "left": null,
            "margin": null,
            "max_height": null,
            "max_width": null,
            "min_height": null,
            "min_width": null,
            "object_fit": null,
            "object_position": null,
            "order": null,
            "overflow": null,
            "overflow_x": null,
            "overflow_y": null,
            "padding": null,
            "right": null,
            "top": null,
            "visibility": null,
            "width": null
          }
        },
        "d2e31917e76144aeb7058074cdebc547": {
          "model_module": "@jupyter-widgets/controls",
          "model_module_version": "1.5.0",
          "model_name": "FloatSliderModel",
          "state": {
            "_dom_classes": [],
            "_model_module": "@jupyter-widgets/controls",
            "_model_module_version": "1.5.0",
            "_model_name": "FloatSliderModel",
            "_view_count": null,
            "_view_module": "@jupyter-widgets/controls",
            "_view_module_version": "1.5.0",
            "_view_name": "FloatSliderView",
            "continuous_update": true,
            "description": "t",
            "description_tooltip": null,
            "disabled": false,
            "layout": "IPY_MODEL_157c62c16d524f0ab4ffdc20e7a56eda",
            "max": 11.70569529961376,
            "min": 0,
            "orientation": "horizontal",
            "readout": true,
            "readout_format": ".2f",
            "step": 0.1170569529961376,
            "style": "IPY_MODEL_2a8cdfbcc20f451fa80b6c66021a4fa9",
            "value": 0
          }
        },
        "d82223d293a64dd6b01cd23bb7c969e3": {
          "model_module": "@jupyter-widgets/controls",
          "model_module_version": "1.5.0",
          "model_name": "FloatSliderModel",
          "state": {
            "_dom_classes": [],
            "_model_module": "@jupyter-widgets/controls",
            "_model_module_version": "1.5.0",
            "_model_name": "FloatSliderModel",
            "_view_count": null,
            "_view_module": "@jupyter-widgets/controls",
            "_view_module_version": "1.5.0",
            "_view_name": "FloatSliderView",
            "continuous_update": true,
            "description": "t",
            "description_tooltip": null,
            "disabled": false,
            "layout": "IPY_MODEL_2da5dac84ea4449f83b2fd8285d967b7",
            "max": 3.791244529553666,
            "min": 0,
            "orientation": "horizontal",
            "readout": true,
            "readout_format": ".2f",
            "step": 0.03791244529553666,
            "style": "IPY_MODEL_668a8d7fc31343efb54d3074ca402917",
            "value": 0
          }
        },
        "d8dbdd4b58b44c6086d50a466a43d6d3": {
          "model_module": "@jupyter-widgets/base",
          "model_module_version": "1.2.0",
          "model_name": "LayoutModel",
          "state": {
            "_model_module": "@jupyter-widgets/base",
            "_model_module_version": "1.2.0",
            "_model_name": "LayoutModel",
            "_view_count": null,
            "_view_module": "@jupyter-widgets/base",
            "_view_module_version": "1.2.0",
            "_view_name": "LayoutView",
            "align_content": null,
            "align_items": null,
            "align_self": null,
            "border": null,
            "bottom": null,
            "display": null,
            "flex": null,
            "flex_flow": null,
            "grid_area": null,
            "grid_auto_columns": null,
            "grid_auto_flow": null,
            "grid_auto_rows": null,
            "grid_column": null,
            "grid_gap": null,
            "grid_row": null,
            "grid_template_areas": null,
            "grid_template_columns": null,
            "grid_template_rows": null,
            "height": null,
            "justify_content": null,
            "justify_items": null,
            "left": null,
            "margin": null,
            "max_height": null,
            "max_width": null,
            "min_height": null,
            "min_width": null,
            "object_fit": null,
            "object_position": null,
            "order": null,
            "overflow": null,
            "overflow_x": null,
            "overflow_y": null,
            "padding": null,
            "right": null,
            "top": null,
            "visibility": null,
            "width": null
          }
        },
        "db5c3c8c386743ea8ac2f355e709ad7e": {
          "model_module": "@jupyter-widgets/output",
          "model_module_version": "1.0.0",
          "model_name": "OutputModel",
          "state": {
            "_dom_classes": [],
            "_model_module": "@jupyter-widgets/output",
            "_model_module_version": "1.0.0",
            "_model_name": "OutputModel",
            "_view_count": null,
            "_view_module": "@jupyter-widgets/output",
            "_view_module_version": "1.0.0",
            "_view_name": "OutputView",
            "layout": "IPY_MODEL_94da1d5f28054e21b3140758bc91be92",
            "msg_id": "",
            "outputs": []
          }
        },
        "db71f69a31e3463c910b87a79bb7e62f": {
          "model_module": "@jupyter-widgets/controls",
          "model_module_version": "1.5.0",
          "model_name": "VBoxModel",
          "state": {
            "_dom_classes": [
              "widget-interact"
            ],
            "_model_module": "@jupyter-widgets/controls",
            "_model_module_version": "1.5.0",
            "_model_name": "VBoxModel",
            "_view_count": null,
            "_view_module": "@jupyter-widgets/controls",
            "_view_module_version": "1.5.0",
            "_view_name": "VBoxView",
            "box_style": "",
            "children": [
              "IPY_MODEL_a99c0ce526944b0896adcaf4ac75e36b",
              "IPY_MODEL_cba9675c0f304501a1cb7f86e4c1b832"
            ],
            "layout": "IPY_MODEL_3048b8745cf3440d92dc4e82f82c28fa"
          }
        },
        "db9745eeeb674767a5efd9d3e987f447": {
          "model_module": "@jupyter-widgets/controls",
          "model_module_version": "1.5.0",
          "model_name": "VBoxModel",
          "state": {
            "_dom_classes": [
              "widget-interact"
            ],
            "_model_module": "@jupyter-widgets/controls",
            "_model_module_version": "1.5.0",
            "_model_name": "VBoxModel",
            "_view_count": null,
            "_view_module": "@jupyter-widgets/controls",
            "_view_module_version": "1.5.0",
            "_view_name": "VBoxView",
            "box_style": "",
            "children": [
              "IPY_MODEL_713a5666fc1148f5bf0201a3e1dda5bb",
              "IPY_MODEL_41ccad541ad3415aa186ff09cf5f06b6"
            ],
            "layout": "IPY_MODEL_5cc4ac69eaa7464a8079486c78f5b2f8"
          }
        },
        "dc53af7948dd488ca67d754085bde255": {
          "model_module": "@jupyter-widgets/output",
          "model_module_version": "1.0.0",
          "model_name": "OutputModel",
          "state": {
            "_dom_classes": [],
            "_model_module": "@jupyter-widgets/output",
            "_model_module_version": "1.0.0",
            "_model_name": "OutputModel",
            "_view_count": null,
            "_view_module": "@jupyter-widgets/output",
            "_view_module_version": "1.0.0",
            "_view_name": "OutputView",
            "layout": "IPY_MODEL_8c62b5ffe16745309db0d0dc93ffe255",
            "msg_id": "",
            "outputs": []
          }
        },
        "ded8de8a0dcd41e688e42e716cb1321c": {
          "model_module": "@jupyter-widgets/controls",
          "model_module_version": "1.5.0",
          "model_name": "FloatSliderModel",
          "state": {
            "_dom_classes": [],
            "_model_module": "@jupyter-widgets/controls",
            "_model_module_version": "1.5.0",
            "_model_name": "FloatSliderModel",
            "_view_count": null,
            "_view_module": "@jupyter-widgets/controls",
            "_view_module_version": "1.5.0",
            "_view_name": "FloatSliderView",
            "continuous_update": true,
            "description": "t",
            "description_tooltip": null,
            "disabled": false,
            "layout": "IPY_MODEL_5bd098f464654b90a4640e26833eb1a8",
            "max": 7.802260236790772,
            "min": 3.89882517210824,
            "orientation": "horizontal",
            "readout": true,
            "readout_format": ".2f",
            "step": 0.07802260236790773,
            "style": "IPY_MODEL_65f198fa66394445ac91f85e19d3a96a",
            "value": 3.89882517210824
          }
        },
        "e9a10dc5827b46db975ceed39cc89bf9": {
          "model_module": "@jupyter-widgets/controls",
          "model_module_version": "1.5.0",
          "model_name": "FloatSliderModel",
          "state": {
            "_dom_classes": [],
            "_model_module": "@jupyter-widgets/controls",
            "_model_module_version": "1.5.0",
            "_model_name": "FloatSliderModel",
            "_view_count": null,
            "_view_module": "@jupyter-widgets/controls",
            "_view_module_version": "1.5.0",
            "_view_name": "FloatSliderView",
            "continuous_update": true,
            "description": "t",
            "description_tooltip": null,
            "disabled": false,
            "layout": "IPY_MODEL_4614792c2e114e4d948985ed3c5383e8",
            "max": 3.898825172106606,
            "min": 0,
            "orientation": "horizontal",
            "readout": true,
            "readout_format": ".2f",
            "step": 0.038988251721066056,
            "style": "IPY_MODEL_ee74f87cff1643dba4bba28c7b45c105",
            "value": 0
          }
        },
        "e9df086678e449b397ca1b7d1dff9ac0": {
          "model_module": "@jupyter-widgets/controls",
          "model_module_version": "1.5.0",
          "model_name": "VBoxModel",
          "state": {
            "_dom_classes": [
              "widget-interact"
            ],
            "_model_module": "@jupyter-widgets/controls",
            "_model_module_version": "1.5.0",
            "_model_name": "VBoxModel",
            "_view_count": null,
            "_view_module": "@jupyter-widgets/controls",
            "_view_module_version": "1.5.0",
            "_view_name": "VBoxView",
            "box_style": "",
            "children": [
              "IPY_MODEL_0473c1417c24441a8ff8d00baa320580",
              "IPY_MODEL_3e159c21337140b6a137c414ec0a22b1"
            ],
            "layout": "IPY_MODEL_a35eeedeb13e4918962c676760746da5"
          }
        },
        "ee74f87cff1643dba4bba28c7b45c105": {
          "model_module": "@jupyter-widgets/controls",
          "model_module_version": "1.5.0",
          "model_name": "SliderStyleModel",
          "state": {
            "_model_module": "@jupyter-widgets/controls",
            "_model_module_version": "1.5.0",
            "_model_name": "SliderStyleModel",
            "_view_count": null,
            "_view_module": "@jupyter-widgets/base",
            "_view_module_version": "1.2.0",
            "_view_name": "StyleView",
            "description_width": "",
            "handle_color": null
          }
        },
        "ee80280beac24df78ede30dcc3d0c2f1": {
          "model_module": "@jupyter-widgets/controls",
          "model_module_version": "1.5.0",
          "model_name": "VBoxModel",
          "state": {
            "_dom_classes": [
              "widget-interact"
            ],
            "_model_module": "@jupyter-widgets/controls",
            "_model_module_version": "1.5.0",
            "_model_name": "VBoxModel",
            "_view_count": null,
            "_view_module": "@jupyter-widgets/controls",
            "_view_module_version": "1.5.0",
            "_view_name": "VBoxView",
            "box_style": "",
            "children": [
              "IPY_MODEL_ded8de8a0dcd41e688e42e716cb1321c",
              "IPY_MODEL_4e1dbdf6dceb467491212fb2980bdcb4"
            ],
            "layout": "IPY_MODEL_f407a64bab3442a3b3e81ebe24c525f1"
          }
        },
        "f407a64bab3442a3b3e81ebe24c525f1": {
          "model_module": "@jupyter-widgets/base",
          "model_module_version": "1.2.0",
          "model_name": "LayoutModel",
          "state": {
            "_model_module": "@jupyter-widgets/base",
            "_model_module_version": "1.2.0",
            "_model_name": "LayoutModel",
            "_view_count": null,
            "_view_module": "@jupyter-widgets/base",
            "_view_module_version": "1.2.0",
            "_view_name": "LayoutView",
            "align_content": null,
            "align_items": null,
            "align_self": null,
            "border": null,
            "bottom": null,
            "display": null,
            "flex": null,
            "flex_flow": null,
            "grid_area": null,
            "grid_auto_columns": null,
            "grid_auto_flow": null,
            "grid_auto_rows": null,
            "grid_column": null,
            "grid_gap": null,
            "grid_row": null,
            "grid_template_areas": null,
            "grid_template_columns": null,
            "grid_template_rows": null,
            "height": null,
            "justify_content": null,
            "justify_items": null,
            "left": null,
            "margin": null,
            "max_height": null,
            "max_width": null,
            "min_height": null,
            "min_width": null,
            "object_fit": null,
            "object_position": null,
            "order": null,
            "overflow": null,
            "overflow_x": null,
            "overflow_y": null,
            "padding": null,
            "right": null,
            "top": null,
            "visibility": null,
            "width": null
          }
        }
      }
    }
  },
  "nbformat": 4,
  "nbformat_minor": 0
}
